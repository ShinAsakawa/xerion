{
  "nbformat": 4,
  "nbformat_minor": 0,
  "metadata": {
    "colab": {
      "name": "2019wbaihandson_word2vec_demo.ipynb",
      "version": "0.3.2",
      "provenance": [],
      "collapsed_sections": [],
      "include_colab_link": true
    },
    "kernelspec": {
      "display_name": "Python 3",
      "language": "python",
      "name": "python3"
    }
  },
  "cells": [
    {
      "cell_type": "markdown",
      "metadata": {
        "id": "view-in-github",
        "colab_type": "text"
      },
      "source": [
        "<a href=\"https://colab.research.google.com/github/ShinAsakawa/xerion/blob/master/notebooks/2019wbaihandson_word2vec_demo.ipynb\" target=\"_parent\"><img src=\"https://colab.research.google.com/assets/colab-badge.svg\" alt=\"Open In Colab\"/></a>"
      ]
    },
    {
      "metadata": {
        "id": "b31yw4PFDP7r",
        "colab_type": "text"
      },
      "cell_type": "markdown",
      "source": [
        "#  [第2回失語症ハンズオン](https://wba-initiative.org/3411/)\n",
        "\n",
        "<div>\n",
        "    <center><img src=\"https://wba-initiative.org/wp-content/uploads/2015/05/logo.png\" style=\"width:29%\"></center>\n",
        "</div>\n",
        "    \n",
        "\n",
        "<div align='right'>\n",
        "<a href='mailto:asakawa@ieee.org'>Shin Aasakawa</a>, all rights reserved.<br>\n",
        "Date: 15/Mar/2019<br>\n",
        " MIT license\n",
        "</div>\n",
        "\n",
        "---\n",
        "\n",
        "# 日本語 word2vec によるデモ"
      ]
    },
    {
      "metadata": {
        "id": "5NOJVZZMC0TJ",
        "colab_type": "code",
        "colab": {}
      },
      "cell_type": "code",
      "source": [
        "# -*- coding: utf-8 -*-\n",
        "from __future__ import absolute_import\n",
        "from __future__ import print_function\n",
        "from six.moves import range\n",
        "from six.moves.urllib import request\n",
        "\n",
        "import numpy as np\n",
        "import os\n",
        "import sys\n",
        "import gensim"
      ],
      "execution_count": 0,
      "outputs": []
    },
    {
      "metadata": {
        "id": "fMVrUkraC0Ta",
        "colab_type": "code",
        "colab": {}
      },
      "cell_type": "code",
      "source": [
        "from six.moves.urllib import request"
      ],
      "execution_count": 0,
      "outputs": []
    },
    {
      "metadata": {
        "id": "XUoVek2vC0Tj",
        "colab_type": "code",
        "colab": {}
      },
      "cell_type": "code",
      "source": [
        "def downloadModel(filename, forceDownload=False):\n",
        "    \"\"\"\n",
        "    Downloading word2vec models from Tokyo Women's Christian univ.\n",
        "    \"\"\"\n",
        "    url = 'http://www.cis.twcu.ac.jp/~asakawa/2017jpa'\n",
        "    #targetCBOW = '2017Jul_jawiki-wakati_neologd_hid200_win20_neg10_cbow.bin.gz'\n",
        "    #targetSkipgram = '2017Jul_jawiki-wakati_neologd_hid200_win20_neg10_sgns.bin.gz'\n",
        "    #targetCBOW300 = '2017Jul_jawiki-wakati_neologd_hid300_win20_neg10_cbow.bin.gz'\n",
        "    #targetSkipgram300 = '2017Jul_jawiki-wakati_neologd_hid300_win20_neg10_sgns.bin.gz'\n",
        "    sizeDict = {'2017Jul_jawiki-wakati_neologd_hid200_win20_neg20_sgns.bin.gz': 1367091440,\n",
        "                '2017Jul_jawiki-wakati_neologd_hid200_win20_neg20_cbow.bin.gz': 1369049082,\n",
        "                '2017Jul_jawiki-wakati_neologd_hid300_win20_neg10_sgns.bin.gz': 2037576530,\n",
        "                '2017Jul_jawiki-wakati_neologd_hid300_win20_neg10_sgns.bin.gz': 2041172321,\n",
        "                'deep_fasttext.ipynb': 7086}\n",
        "    expectedSize = sizeDict[filename]\n",
        "    path = os.getcwd()\n",
        "    dest_filename = os.path.join(path, filename)\n",
        "    \n",
        "    if os.path.exists(dest_filename):\n",
        "        statinfo = os.stat(dest_filename)\n",
        "        if statinfo.st_size != expectedSize:\n",
        "            forceDownload = True\n",
        "            print(\"File {} not expected size, forcing download\".format(filename))\n",
        "        else:\n",
        "            print(\"File '{}' allready downloaded.\".format(filename))\n",
        "\n",
        "    if forceDownload == True or not os.path.exists(dest_filename):\n",
        "        print('Attempting to download: {}'.format(filename)) \n",
        "        request.urlretrieve(url + '/' + filename, dest_filename)\n",
        "        print(\"Downloaded '{}' successfully\".format(filename))"
      ],
      "execution_count": 0,
      "outputs": []
    },
    {
      "metadata": {
        "id": "Ctlg9_6zC0Tp",
        "colab_type": "code",
        "colab": {}
      },
      "cell_type": "code",
      "source": [
        "downloadModel('2017Jul_jawiki-wakati_neologd_hid200_win20_neg20_cbow.bin.gz', 1369049082)\n",
        "#downloadModel('2017Jul_jawiki-wakati_neologd_hid200_win20_neg20_sgns.bin.gz', 1367091440)\n",
        "#downloadModel('2017Jul_jawiki-wakati_neologd_hid300_win20_neg20_sgns.bin.gz', 2037576530)\n",
        "#downloadModel('2017Jul_jawiki-wakati_neologd_hid200_win20_neg20_cbow.bin.gz', 1369049082)\n",
        "\n",
        "# Note: you can choose one of four models above"
      ],
      "execution_count": 0,
      "outputs": []
    },
    {
      "metadata": {
        "id": "GNS5rSBLUQTv",
        "colab_type": "code",
        "colab": {}
      },
      "cell_type": "code",
      "source": [
        "# 上のセルが動作しなければこのセルのコメントを外して実行してください\n",
        "!wget http://www.cis.twcu.ac.jp/~asakawa/2017jpa/2017Jul_jawiki-wakati_neologd_hid200_win20_neg20_cbow.bin.gz"
      ],
      "execution_count": 0,
      "outputs": []
    },
    {
      "metadata": {
        "id": "Yqfd5fBcC0Tw",
        "colab_type": "code",
        "colab": {}
      },
      "cell_type": "code",
      "source": [
        "word2vec_file='2017Jul_jawiki-wakati_neologd_hid200_win20_neg20_cbow.bin.gz'\n",
        "model = gensim.models.KeyedVectors.load_word2vec_format(word2vec_file, \n",
        "                                                        encoding='utf-8', \n",
        "                                                        unicode_errors='replace', \n",
        "                                                        binary=True)"
      ],
      "execution_count": 0,
      "outputs": []
    },
    {
      "metadata": {
        "id": "MLgAKPceC0T2",
        "colab_type": "code",
        "colab": {}
      },
      "cell_type": "code",
      "source": [
        "model.most_similar(positive=['woman', 'king'], negative=['man'], topn=5)"
      ],
      "execution_count": 0,
      "outputs": []
    },
    {
      "metadata": {
        "id": "dORxdWn4C0T7",
        "colab_type": "code",
        "colab": {}
      },
      "cell_type": "code",
      "source": [
        "model.most_similar(positive=['王','女'], negative=['男'], topn=10)"
      ],
      "execution_count": 0,
      "outputs": []
    },
    {
      "metadata": {
        "id": "6-43g9qSC0T_",
        "colab_type": "code",
        "colab": {}
      },
      "cell_type": "code",
      "source": [
        "model.most_similar(positive=['日本心理学会'], negative=['心理学'], topn=10)\n",
        "model.most_similar(positive=['心理'], negative=['科学'], topn=10)\n",
        "model.most_similar(positive=['心理学'], negative=['実験'], topn=10)"
      ],
      "execution_count": 0,
      "outputs": []
    },
    {
      "metadata": {
        "id": "ZbsVQ2ZaC0UC",
        "colab_type": "code",
        "colab": {}
      },
      "cell_type": "code",
      "source": [
        "model.most_similar(positive=['言語','実験'], topn=10)\n",
        "model.most_similar(positive=['言語学','心理学'], topn=10)"
      ],
      "execution_count": 0,
      "outputs": []
    },
    {
      "metadata": {
        "id": "JwDbFhUmC0UE",
        "colab_type": "code",
        "colab": {}
      },
      "cell_type": "code",
      "source": [
        "model.most_similar(positive=['聴覚','認知科学'], topn=5)\n",
        "model.most_similar(positive=['視覚','認知科学'], topn=5)\n",
        "model.most_similar(positive=['視覚','認知心理学'], topn=5)\n",
        "model.most_similar(positive=['言語','思考'], topn=5)"
      ],
      "execution_count": 0,
      "outputs": []
    },
    {
      "metadata": {
        "id": "e1jHd_H1C0UH",
        "colab_type": "code",
        "colab": {}
      },
      "cell_type": "code",
      "source": [
        "model.most_similar(positive=['ユニクロ','錦織圭'], negative=['テニス'], topn=10)"
      ],
      "execution_count": 0,
      "outputs": []
    },
    {
      "metadata": {
        "id": "TDEXEKtHC0UK",
        "colab_type": "code",
        "colab": {}
      },
      "cell_type": "code",
      "source": [
        "model.most_similar(positive=['ジャイアンツ','アメリカ'], negative=['日本'], topn=10)"
      ],
      "execution_count": 0,
      "outputs": []
    },
    {
      "metadata": {
        "id": "3quDlVwpC0UN",
        "colab_type": "code",
        "colab": {}
      },
      "cell_type": "code",
      "source": [
        "model.most_similar(positive=['ユニクロ'], negative=['アパレル'], topn=10)\n",
        "model.most_similar(positive=['ユニクロ','アメリカ'], negative=['日本'], topn=10)\n",
        "model.most_similar(positive=['ユニクロ','ソフトバンク'], negative=['アパレル'], topn=10)"
      ],
      "execution_count": 0,
      "outputs": []
    },
    {
      "metadata": {
        "id": "KCPDGV0PC0UR",
        "colab_type": "code",
        "colab": {}
      },
      "cell_type": "code",
      "source": [
        "model.most_similar(positive=['1','10'], negative=['+'], topn=5)\n",
        "#model.most_similar(positive=['2','1'], negative=['+'], topn=5)\n",
        "#model.most_similar(positive=['2','1','-'], topn=5)"
      ],
      "execution_count": 0,
      "outputs": []
    },
    {
      "metadata": {
        "id": "1c308SFDC0UU",
        "colab_type": "code",
        "colab": {}
      },
      "cell_type": "code",
      "source": [
        "model.most_similar(positive=['NTT', '中国'], topn=10)"
      ],
      "execution_count": 0,
      "outputs": []
    },
    {
      "metadata": {
        "id": "0slKlslIC0UW",
        "colab_type": "code",
        "colab": {}
      },
      "cell_type": "code",
      "source": [
        "#model.most_similar(positive=['東京', '皇居'], negative=['京都'], topn=10)\n",
        "#model.most_similar(positive=['ユニクロ', '楽天'], negative=['IT企業'], topn=10)\n",
        "model.most_similar(positive=['ユニクロ', '無印良品'], topn=10)"
      ],
      "execution_count": 0,
      "outputs": []
    },
    {
      "metadata": {
        "id": "MYJmb27mC0UY",
        "colab_type": "code",
        "colab": {}
      },
      "cell_type": "code",
      "source": [
        "model.similarity('女性', '男性')"
      ],
      "execution_count": 0,
      "outputs": []
    },
    {
      "metadata": {
        "id": "YRpEWDtWC0Ua",
        "colab_type": "code",
        "colab": {}
      },
      "cell_type": "code",
      "source": [
        "model['computer']  # raw NumPy vector of a word"
      ],
      "execution_count": 0,
      "outputs": []
    },
    {
      "metadata": {
        "id": "d65m-1raC0Uc",
        "colab_type": "code",
        "colab": {}
      },
      "cell_type": "code",
      "source": [
        "model['コンピュータ']  # raw NumPy vector of a word"
      ],
      "execution_count": 0,
      "outputs": []
    },
    {
      "metadata": {
        "id": "14qdfOJ6C0Ue",
        "colab_type": "code",
        "colab": {}
      },
      "cell_type": "code",
      "source": [
        "model.similarity('computer', 'コンピュータ')"
      ],
      "execution_count": 0,
      "outputs": []
    },
    {
      "metadata": {
        "id": "2Ynaeq3mC0Uh",
        "colab_type": "code",
        "colab": {}
      },
      "cell_type": "code",
      "source": [
        "model.similarity('女性', '女')"
      ],
      "execution_count": 0,
      "outputs": []
    },
    {
      "metadata": {
        "id": "ZDT_IqOKC0Ui",
        "colab_type": "code",
        "colab": {}
      },
      "cell_type": "code",
      "source": [
        "model.similarity('コーヒー', '紅茶')"
      ],
      "execution_count": 0,
      "outputs": []
    },
    {
      "metadata": {
        "id": "4xl2jP8eC0Uk",
        "colab_type": "code",
        "colab": {}
      },
      "cell_type": "code",
      "source": [
        "model.similarity('ビール', '日本酒')"
      ],
      "execution_count": 0,
      "outputs": []
    },
    {
      "metadata": {
        "id": "Q5FiigpyC0Un",
        "colab_type": "code",
        "colab": {}
      },
      "cell_type": "code",
      "source": [
        "model.most_similar(positive=['Berlin', 'Germany'], negative=['Paris'], topn=1)"
      ],
      "execution_count": 0,
      "outputs": []
    },
    {
      "metadata": {
        "id": "Hj5ODmY5C0Uo",
        "colab_type": "code",
        "colab": {}
      },
      "cell_type": "code",
      "source": [
        "model.most_similar(positive=['ドイツ','フランス'], negative=['ベルリン'], topn=5)"
      ],
      "execution_count": 0,
      "outputs": []
    },
    {
      "metadata": {
        "id": "D0hwUP9KC0Uq",
        "colab_type": "code",
        "colab": {}
      },
      "cell_type": "code",
      "source": [
        "model.most_similar(positive=['京都','皇居'], negative=['東京'], topn=5)"
      ],
      "execution_count": 0,
      "outputs": []
    },
    {
      "metadata": {
        "id": "iMPsMhThC0Ur",
        "colab_type": "code",
        "colab": {}
      },
      "cell_type": "code",
      "source": [
        "model.most_similar(positive=['東京','早稲田大学'], negative=['大阪'], topn=5)"
      ],
      "execution_count": 0,
      "outputs": []
    },
    {
      "metadata": {
        "id": "VOha6Wm3C0Ut",
        "colab_type": "code",
        "colab": {}
      },
      "cell_type": "code",
      "source": [
        "model.most_similar(positive=['納豆','豆腐'], negative=['大豆'],topn=10)"
      ],
      "execution_count": 0,
      "outputs": []
    },
    {
      "metadata": {
        "id": "-D-SJw8QC0Uu",
        "colab_type": "code",
        "colab": {}
      },
      "cell_type": "code",
      "source": [
        "model.most_similar(positive=['権力', '麻薬'], topn=10)"
      ],
      "execution_count": 0,
      "outputs": []
    },
    {
      "metadata": {
        "id": "QFOD8pTXC0Uv",
        "colab_type": "code",
        "colab": {}
      },
      "cell_type": "code",
      "source": [
        "model.most_similar(positive=['治療', '修理'], topn=10)"
      ],
      "execution_count": 0,
      "outputs": []
    },
    {
      "metadata": {
        "id": "NMorvt0hC0Ux",
        "colab_type": "code",
        "colab": {}
      },
      "cell_type": "code",
      "source": [
        "model.most_similar(positive=['月', 'お盆'], topn=10)"
      ],
      "execution_count": 0,
      "outputs": []
    }
  ]
}