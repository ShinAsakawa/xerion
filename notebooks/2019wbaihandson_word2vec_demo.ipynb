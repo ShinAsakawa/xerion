{
  "nbformat": 4,
  "nbformat_minor": 0,
  "metadata": {
    "colab": {
      "name": "2019wbaihandson_word2vec_demo.ipynb",
      "version": "0.3.2",
      "provenance": [],
      "collapsed_sections": [],
      "include_colab_link": true
    },
    "kernelspec": {
      "display_name": "Python 3",
      "language": "python",
      "name": "python3"
    }
  },
  "cells": [
    {
      "cell_type": "markdown",
      "metadata": {
        "id": "view-in-github",
        "colab_type": "text"
      },
      "source": [
        "<a href=\"https://colab.research.google.com/github/ShinAsakawa/xerion/blob/master/notebooks/2019wbaihandson_word2vec_demo.ipynb\" target=\"_parent\"><img src=\"https://colab.research.google.com/assets/colab-badge.svg\" alt=\"Open In Colab\"/></a>"
      ]
    },
    {
      "metadata": {
        "id": "b31yw4PFDP7r",
        "colab_type": "text"
      },
      "cell_type": "markdown",
      "source": [
        "# for [第2回失語症ハンズオン](https://wba-initiative.org/3411/)\n",
        "\n",
        "<div>\n",
        "    <center><img src=\"https://wba-initiative.org/wp-content/uploads/2015/05/logo.png\" style=\"width:29%\"></center>\n",
        "</div>\n",
        "    \n",
        "\n",
        "<div align='right'>\n",
        "<a href='mailto:asakawa@ieee.org'>Shin Aasakawa</a>, all rights reserved.<br>\n",
        "Date: 15/Mar/2019<br>\n",
        " MIT license\n",
        "</div>\n",
        "\n",
        "---\n",
        "\n",
        "# 日本語 word2vec によるデモ"
      ]
    },
    {
      "metadata": {
        "id": "5NOJVZZMC0TJ",
        "colab_type": "code",
        "colab": {}
      },
      "cell_type": "code",
      "source": [
        "# -*- coding: utf-8 -*-\n",
        "from __future__ import absolute_import\n",
        "from __future__ import print_function\n",
        "from six.moves import range\n",
        "from six.moves.urllib import request\n",
        "\n",
        "import numpy as np\n",
        "import os\n",
        "import sys\n",
        "import gensim"
      ],
      "execution_count": 0,
      "outputs": []
    },
    {
      "metadata": {
        "id": "fMVrUkraC0Ta",
        "colab_type": "code",
        "colab": {}
      },
      "cell_type": "code",
      "source": [
        "from six.moves.urllib import request"
      ],
      "execution_count": 0,
      "outputs": []
    },
    {
      "metadata": {
        "id": "XUoVek2vC0Tj",
        "colab_type": "code",
        "colab": {}
      },
      "cell_type": "code",
      "source": [
        "def downloadModel(filename, forceDownload=False):\n",
        "    \"\"\"\n",
        "    Downloading word2vec models from Tokyo Women's Christian univ.\n",
        "    \"\"\"\n",
        "    url = 'http://www.cis.twcu.ac.jp/~asakawa/2017jpa'\n",
        "    #targetCBOW = '2017Jul_jawiki-wakati_neologd_hid200_win20_neg10_cbow.bin.gz'\n",
        "    #targetSkipgram = '2017Jul_jawiki-wakati_neologd_hid200_win20_neg10_sgns.bin.gz'\n",
        "    #targetCBOW300 = '2017Jul_jawiki-wakati_neologd_hid300_win20_neg10_cbow.bin.gz'\n",
        "    #targetSkipgram300 = '2017Jul_jawiki-wakati_neologd_hid300_win20_neg10_sgns.bin.gz'\n",
        "    sizeDict = {'2017Jul_jawiki-wakati_neologd_hid200_win20_neg20_sgns.bin.gz': 1367091440,\n",
        "                '2017Jul_jawiki-wakati_neologd_hid200_win20_neg20_cbow.bin.gz': 1369049082,\n",
        "                '2017Jul_jawiki-wakati_neologd_hid300_win20_neg10_sgns.bin.gz': 2037576530,\n",
        "                '2017Jul_jawiki-wakati_neologd_hid300_win20_neg10_sgns.bin.gz': 2041172321,\n",
        "                'deep_fasttext.ipynb': 7086}\n",
        "    expectedSize = sizeDict[filename]\n",
        "    path = os.getcwd()\n",
        "    dest_filename = os.path.join(path, filename)\n",
        "    \n",
        "    if os.path.exists(dest_filename):\n",
        "        statinfo = os.stat(dest_filename)\n",
        "        if statinfo.st_size != expectedSize:\n",
        "            forceDownload = True\n",
        "            print(\"File {} not expected size, forcing download\".format(filename))\n",
        "        else:\n",
        "            print(\"File '{}' allready downloaded.\".format(filename))\n",
        "\n",
        "    if forceDownload == True or not os.path.exists(dest_filename):\n",
        "        print('Attempting to download: {}'.format(filename)) \n",
        "        request.urlretrieve(url + '/' + filename, dest_filename)\n",
        "        print(\"Downloaded '{}' successfully\".format(filename))"
      ],
      "execution_count": 0,
      "outputs": []
    },
    {
      "metadata": {
        "id": "Ctlg9_6zC0Tp",
        "colab_type": "code",
        "outputId": "76ddde31-6c87-4f74-ab3a-ecbaeba87ee8",
        "colab": {
          "base_uri": "https://localhost:8080/",
          "height": 52
        }
      },
      "cell_type": "code",
      "source": [
        "downloadModel('2017Jul_jawiki-wakati_neologd_hid200_win20_neg20_cbow.bin.gz', 1369049082)\n",
        "#downloadModel('2017Jul_jawiki-wakati_neologd_hid200_win20_neg20_sgns.bin.gz', 1367091440)\n",
        "#downloadModel('2017Jul_jawiki-wakati_neologd_hid300_win20_neg20_sgns.bin.gz', 2037576530)\n",
        "#downloadModel('2017Jul_jawiki-wakati_neologd_hid200_win20_neg20_cbow.bin.gz', 1369049082)\n",
        "\n",
        "# Note: you can choose one of four models above"
      ],
      "execution_count": 0,
      "outputs": [
        {
          "output_type": "stream",
          "text": [
            "Attempting to download: 2017Jul_jawiki-wakati_neologd_hid200_win20_neg20_cbow.bin.gz\n",
            "Downloaded '2017Jul_jawiki-wakati_neologd_hid200_win20_neg20_cbow.bin.gz' successfully\n"
          ],
          "name": "stdout"
        }
      ]
    },
    {
      "metadata": {
        "id": "Yqfd5fBcC0Tw",
        "colab_type": "code",
        "colab": {}
      },
      "cell_type": "code",
      "source": [
        "word2vec_file='2017Jul_jawiki-wakati_neologd_hid200_win20_neg20_cbow.bin.gz'\n",
        "model = gensim.models.KeyedVectors.load_word2vec_format(word2vec_file, \n",
        "                                                        encoding='utf-8', \n",
        "                                                        unicode_errors='replace', \n",
        "                                                        binary=True)"
      ],
      "execution_count": 0,
      "outputs": []
    },
    {
      "metadata": {
        "id": "MLgAKPceC0T2",
        "colab_type": "code",
        "outputId": "2973271b-2566-4999-82d2-19fb5b2671f2",
        "colab": {
          "base_uri": "https://localhost:8080/",
          "height": 156
        }
      },
      "cell_type": "code",
      "source": [
        "model.most_similar(positive=['woman', 'king'], negative=['man'], topn=5)"
      ],
      "execution_count": 0,
      "outputs": [
        {
          "output_type": "stream",
          "text": [
            "/usr/local/lib/python3.6/dist-packages/gensim/matutils.py:737: FutureWarning: Conversion of the second argument of issubdtype from `int` to `np.signedinteger` is deprecated. In future, it will be treated as `np.int64 == np.dtype(int).type`.\n",
            "  if np.issubdtype(vec.dtype, np.int):\n"
          ],
          "name": "stderr"
        },
        {
          "output_type": "execute_result",
          "data": {
            "text/plain": [
              "[('beauty', 0.46546846628189087),\n",
              " ('queen', 0.4608246386051178),\n",
              " ('african', 0.448607861995697),\n",
              " ('anna', 0.4478578269481659),\n",
              " ('inquirer', 0.44565945863723755)]"
            ]
          },
          "metadata": {
            "tags": []
          },
          "execution_count": 10
        }
      ]
    },
    {
      "metadata": {
        "id": "dORxdWn4C0T7",
        "colab_type": "code",
        "outputId": "aecf0e99-74bb-4c84-b220-448ec540497c",
        "colab": {
          "base_uri": "https://localhost:8080/",
          "height": 241
        }
      },
      "cell_type": "code",
      "source": [
        "model.most_similar(positive=['王','女'], negative=['男'], topn=10)"
      ],
      "execution_count": 0,
      "outputs": [
        {
          "output_type": "stream",
          "text": [
            "/usr/local/lib/python3.6/dist-packages/gensim/matutils.py:737: FutureWarning: Conversion of the second argument of issubdtype from `int` to `np.signedinteger` is deprecated. In future, it will be treated as `np.int64 == np.dtype(int).type`.\n",
            "  if np.issubdtype(vec.dtype, np.int):\n"
          ],
          "name": "stderr"
        },
        {
          "output_type": "execute_result",
          "data": {
            "text/plain": [
              "[('女王', 0.6859053373336792),\n",
              " ('王妃', 0.6838831305503845),\n",
              " ('臣下', 0.661135196685791),\n",
              " ('皇帝', 0.6584856510162354),\n",
              " ('后', 0.6490647792816162),\n",
              " ('妃', 0.647068440914154),\n",
              " ('国王', 0.6432377099990845),\n",
              " ('君主', 0.6425992250442505),\n",
              " ('王族', 0.6397929191589355),\n",
              " ('王家', 0.6275038123130798)]"
            ]
          },
          "metadata": {
            "tags": []
          },
          "execution_count": 11
        }
      ]
    },
    {
      "metadata": {
        "id": "6-43g9qSC0T_",
        "colab_type": "code",
        "outputId": "69ec71e8-7f08-486a-bd86-6153ba6615f6",
        "colab": {
          "base_uri": "https://localhost:8080/",
          "height": 241
        }
      },
      "cell_type": "code",
      "source": [
        "model.most_similar(positive=['日本心理学会'], negative=['心理学'], topn=10)\n",
        "model.most_similar(positive=['心理学'], negative=['科学'], topn=10)\n",
        "model.most_similar(positive=['心理学'], negative=['実験'], topn=10)"
      ],
      "execution_count": 0,
      "outputs": [
        {
          "output_type": "stream",
          "text": [
            "/usr/local/lib/python3.6/dist-packages/gensim/matutils.py:737: FutureWarning: Conversion of the second argument of issubdtype from `int` to `np.signedinteger` is deprecated. In future, it will be treated as `np.int64 == np.dtype(int).type`.\n",
            "  if np.issubdtype(vec.dtype, np.int):\n"
          ],
          "name": "stderr"
        },
        {
          "output_type": "execute_result",
          "data": {
            "text/plain": [
              "[('臨床心理学', 0.5314215421676636),\n",
              " ('社会学', 0.5085790157318115),\n",
              " ('心理', 0.4729037284851074),\n",
              " ('社会福祉学', 0.4727887511253357),\n",
              " ('発達心理学', 0.4697440266609192),\n",
              " ('文化資本', 0.4522404670715332),\n",
              " ('教育心理学', 0.45030397176742554),\n",
              " ('現代社会', 0.44769546389579773),\n",
              " ('現代社会学', 0.4400091767311096),\n",
              " ('社会心理学', 0.4392945468425751)]"
            ]
          },
          "metadata": {
            "tags": []
          },
          "execution_count": 12
        }
      ]
    },
    {
      "metadata": {
        "id": "ZbsVQ2ZaC0UC",
        "colab_type": "code",
        "outputId": "6df0b9f0-18c9-40a9-c6c0-ea42e76c0a50",
        "colab": {
          "base_uri": "https://localhost:8080/",
          "height": 241
        }
      },
      "cell_type": "code",
      "source": [
        "model.most_similar(positive=['言語','実験'], topn=10)\n",
        "model.most_similar(positive=['言語学','心理学'], topn=10)"
      ],
      "execution_count": 0,
      "outputs": [
        {
          "output_type": "stream",
          "text": [
            "/usr/local/lib/python3.6/dist-packages/gensim/matutils.py:737: FutureWarning: Conversion of the second argument of issubdtype from `int` to `np.signedinteger` is deprecated. In future, it will be treated as `np.int64 == np.dtype(int).type`.\n",
            "  if np.issubdtype(vec.dtype, np.int):\n"
          ],
          "name": "stderr"
        },
        {
          "output_type": "execute_result",
          "data": {
            "text/plain": [
              "[('社会学', 0.7897724509239197),\n",
              " ('実験心理学', 0.7458305358886719),\n",
              " ('精神分析', 0.7246084213256836),\n",
              " ('哲学', 0.7182893753051758),\n",
              " ('現象学', 0.7120950222015381),\n",
              " ('精神科学', 0.7081323266029358),\n",
              " ('方法論', 0.7016284465789795),\n",
              " ('認知科学', 0.7014299631118774),\n",
              " ('精神医学', 0.6993056535720825),\n",
              " ('認識論', 0.6984972953796387)]"
            ]
          },
          "metadata": {
            "tags": []
          },
          "execution_count": 13
        }
      ]
    },
    {
      "metadata": {
        "id": "JwDbFhUmC0UE",
        "colab_type": "code",
        "outputId": "5bcc952e-7b96-4fbf-969a-7c11f8bd4b35",
        "colab": {
          "base_uri": "https://localhost:8080/",
          "height": 156
        }
      },
      "cell_type": "code",
      "source": [
        "model.most_similar(positive=['聴覚','認知科学'], topn=5)\n",
        "model.most_similar(positive=['視覚','認知科学'], topn=5)\n",
        "model.most_similar(positive=['視覚','認知心理学'], topn=5)\n",
        "model.most_similar(positive=['言語','思考'], topn=5)"
      ],
      "execution_count": 0,
      "outputs": [
        {
          "output_type": "stream",
          "text": [
            "/usr/local/lib/python3.6/dist-packages/gensim/matutils.py:737: FutureWarning: Conversion of the second argument of issubdtype from `int` to `np.signedinteger` is deprecated. In future, it will be treated as `np.int64 == np.dtype(int).type`.\n",
            "  if np.issubdtype(vec.dtype, np.int):\n"
          ],
          "name": "stderr"
        },
        {
          "output_type": "execute_result",
          "data": {
            "text/plain": [
              "[('文法', 0.7388002276420593),\n",
              " ('論理', 0.7268334031105042),\n",
              " ('概念', 0.6830329298973083),\n",
              " ('言語学', 0.6823515892028809),\n",
              " ('語彙', 0.6690120100975037)]"
            ]
          },
          "metadata": {
            "tags": []
          },
          "execution_count": 14
        }
      ]
    },
    {
      "metadata": {
        "id": "e1jHd_H1C0UH",
        "colab_type": "code",
        "outputId": "40c65858-329d-4fca-f8da-b1bbebf822f6",
        "colab": {
          "base_uri": "https://localhost:8080/",
          "height": 241
        }
      },
      "cell_type": "code",
      "source": [
        "model.most_similar(positive=['ユニクロ','錦織圭'], negative=['テニス'], topn=10)"
      ],
      "execution_count": 0,
      "outputs": [
        {
          "output_type": "stream",
          "text": [
            "/usr/local/lib/python3.6/dist-packages/gensim/matutils.py:737: FutureWarning: Conversion of the second argument of issubdtype from `int` to `np.signedinteger` is deprecated. In future, it will be treated as `np.int64 == np.dtype(int).type`.\n",
            "  if np.issubdtype(vec.dtype, np.int):\n"
          ],
          "name": "stderr"
        },
        {
          "output_type": "execute_result",
          "data": {
            "text/plain": [
              "[('ABCマート', 0.5656465291976929),\n",
              " ('ファーストリテイリング', 0.5618910789489746),\n",
              " ('g.u.', 0.543880045413971),\n",
              " ('ファストファッション', 0.5345152616500854),\n",
              " ('東急ハンズ', 0.5279792547225952),\n",
              " ('UNIQLO', 0.5194501876831055),\n",
              " ('アダストリア', 0.5122032165527344),\n",
              " ('セブン&アイ・ホールディングス', 0.5088904500007629),\n",
              " ('ABC-MART', 0.5076701045036316),\n",
              " ('ビックカメラ', 0.5070897340774536)]"
            ]
          },
          "metadata": {
            "tags": []
          },
          "execution_count": 15
        }
      ]
    },
    {
      "metadata": {
        "id": "TDEXEKtHC0UK",
        "colab_type": "code",
        "outputId": "dea3a18f-f326-42ca-ef00-e338e20a4d62",
        "colab": {
          "base_uri": "https://localhost:8080/",
          "height": 241
        }
      },
      "cell_type": "code",
      "source": [
        "model.most_similar(positive=['ジャイアンツ','アメリカ'], negative=['日本'], topn=10)"
      ],
      "execution_count": 0,
      "outputs": [
        {
          "output_type": "stream",
          "text": [
            "/usr/local/lib/python3.6/dist-packages/gensim/matutils.py:737: FutureWarning: Conversion of the second argument of issubdtype from `int` to `np.signedinteger` is deprecated. In future, it will be treated as `np.int64 == np.dtype(int).type`.\n",
            "  if np.issubdtype(vec.dtype, np.int):\n"
          ],
          "name": "stderr"
        },
        {
          "output_type": "execute_result",
          "data": {
            "text/plain": [
              "[('ヤンキース', 0.6978877782821655),\n",
              " ('ドジャース', 0.6399884223937988),\n",
              " ('ジョンソン', 0.6319687366485596),\n",
              " ('カブス', 0.6314218044281006),\n",
              " ('カージナルス', 0.6301343441009521),\n",
              " ('レッドソックス', 0.6255528926849365),\n",
              " ('ブレーブス', 0.6227092146873474),\n",
              " ('レッズ', 0.6207554340362549),\n",
              " ('メッツ', 0.6173810958862305),\n",
              " ('アスレチックス', 0.6106481552124023)]"
            ]
          },
          "metadata": {
            "tags": []
          },
          "execution_count": 16
        }
      ]
    },
    {
      "metadata": {
        "id": "3quDlVwpC0UN",
        "colab_type": "code",
        "outputId": "1f5c4a42-72e5-401b-84e1-d61ca8aa1bf5",
        "colab": {
          "base_uri": "https://localhost:8080/",
          "height": 241
        }
      },
      "cell_type": "code",
      "source": [
        "model.most_similar(positive=['ユニクロ'], negative=['アパレル'], topn=10)\n",
        "model.most_similar(positive=['ユニクロ','アメリカ'], negative=['日本'], topn=10)\n",
        "model.most_similar(positive=['ユニクロ','ソフトバンク'], negative=['アパレル'], topn=10)"
      ],
      "execution_count": 0,
      "outputs": [
        {
          "output_type": "stream",
          "text": [
            "/usr/local/lib/python3.6/dist-packages/gensim/matutils.py:737: FutureWarning: Conversion of the second argument of issubdtype from `int` to `np.signedinteger` is deprecated. In future, it will be treated as `np.int64 == np.dtype(int).type`.\n",
            "  if np.issubdtype(vec.dtype, np.int):\n"
          ],
          "name": "stderr"
        },
        {
          "output_type": "execute_result",
          "data": {
            "text/plain": [
              "[('楽天', 0.658784031867981),\n",
              " ('日本ハム', 0.573422908782959),\n",
              " ('ソフトバンクモバイル', 0.5713980197906494),\n",
              " ('ビックカメラ', 0.567086398601532),\n",
              " ('オリックス', 0.5650690793991089),\n",
              " ('ロッテ', 0.5453763008117676),\n",
              " ('ヤフードーム', 0.5452370643615723),\n",
              " ('DeNA', 0.5416648387908936),\n",
              " ('ソフトバンクテレコム', 0.5254592299461365),\n",
              " ('NTTドコモ', 0.517427384853363)]"
            ]
          },
          "metadata": {
            "tags": []
          },
          "execution_count": 17
        }
      ]
    },
    {
      "metadata": {
        "id": "KCPDGV0PC0UR",
        "colab_type": "code",
        "outputId": "c9eb4666-c7ee-4998-824d-218329b04327",
        "colab": {
          "base_uri": "https://localhost:8080/",
          "height": 156
        }
      },
      "cell_type": "code",
      "source": [
        "model.most_similar(positive=['1','10'], negative=['+'], topn=5)\n",
        "model.most_similar(positive=['2','1'], negative=['+'], topn=5)\n",
        "model.most_similar(positive=['2','1','-'], topn=5)"
      ],
      "execution_count": 0,
      "outputs": [
        {
          "output_type": "stream",
          "text": [
            "/usr/local/lib/python3.6/dist-packages/gensim/matutils.py:737: FutureWarning: Conversion of the second argument of issubdtype from `int` to `np.signedinteger` is deprecated. In future, it will be treated as `np.int64 == np.dtype(int).type`.\n",
            "  if np.issubdtype(vec.dtype, np.int):\n"
          ],
          "name": "stderr"
        },
        {
          "output_type": "execute_result",
          "data": {
            "text/plain": [
              "[('3', 0.8974112272262573),\n",
              " ('5', 0.8787848949432373),\n",
              " ('4', 0.8775408267974854),\n",
              " ('8', 0.863304853439331),\n",
              " ('7', 0.848238468170166)]"
            ]
          },
          "metadata": {
            "tags": []
          },
          "execution_count": 18
        }
      ]
    },
    {
      "metadata": {
        "id": "1c308SFDC0UU",
        "colab_type": "code",
        "outputId": "c5397e2b-e60d-47b8-c607-55a57846ba75",
        "colab": {
          "base_uri": "https://localhost:8080/",
          "height": 241
        }
      },
      "cell_type": "code",
      "source": [
        "model.most_similar(positive=['NTT', '中国'], topn=10)"
      ],
      "execution_count": 0,
      "outputs": [
        {
          "output_type": "stream",
          "text": [
            "/usr/local/lib/python3.6/dist-packages/gensim/matutils.py:737: FutureWarning: Conversion of the second argument of issubdtype from `int` to `np.signedinteger` is deprecated. In future, it will be treated as `np.int64 == np.dtype(int).type`.\n",
            "  if np.issubdtype(vec.dtype, np.int):\n"
          ],
          "name": "stderr"
        },
        {
          "output_type": "execute_result",
          "data": {
            "text/plain": [
              "[('エヌ・ティ・ティ・ドコモ中国', 0.593762993812561),\n",
              " ('中国大陸', 0.5890634059906006),\n",
              " ('東アジア', 0.5884376764297485),\n",
              " ('エヌ・ティ・ティ', 0.5561776161193848),\n",
              " ('NTTグループ', 0.5548065304756165),\n",
              " ('中国本土', 0.5536043643951416),\n",
              " ('中国吹田インターチェンジ', 0.5475610494613647),\n",
              " ('NTTコミュニケーションズ', 0.547147810459137),\n",
              " ('アジア', 0.5437802076339722),\n",
              " ('NTT西日本', 0.5434710383415222)]"
            ]
          },
          "metadata": {
            "tags": []
          },
          "execution_count": 19
        }
      ]
    },
    {
      "metadata": {
        "id": "0slKlslIC0UW",
        "colab_type": "code",
        "outputId": "bc0de71c-a5d9-4ac2-be76-d1ba68c41dde",
        "colab": {
          "base_uri": "https://localhost:8080/",
          "height": 241
        }
      },
      "cell_type": "code",
      "source": [
        "model.most_similar(positive=['東京', '皇居'], topn=10)\n",
        "model.most_similar(positive=['ユニクロ', '楽天'], negative=['IT企業'], topn=10)\n",
        "model.most_similar(positive=['ユニクロ', '無印良品'], topn=10)"
      ],
      "execution_count": 0,
      "outputs": [
        {
          "output_type": "stream",
          "text": [
            "/usr/local/lib/python3.6/dist-packages/gensim/matutils.py:737: FutureWarning: Conversion of the second argument of issubdtype from `int` to `np.signedinteger` is deprecated. In future, it will be treated as `np.int64 == np.dtype(int).type`.\n",
            "  if np.issubdtype(vec.dtype, np.int):\n"
          ],
          "name": "stderr"
        },
        {
          "output_type": "execute_result",
          "data": {
            "text/plain": [
              "[('ABCマート', 0.7605057954788208),\n",
              " ('東急ハンズ', 0.7576479911804199),\n",
              " ('良品計画', 0.7448930740356445),\n",
              " ('UNIQLO', 0.7281185388565063),\n",
              " ('H&M', 0.7250882387161255),\n",
              " ('ライトオン', 0.7167220115661621),\n",
              " ('コナカ', 0.7072467803955078),\n",
              " ('はるやま商事', 0.7016282677650452),\n",
              " ('ZARA', 0.6921913623809814),\n",
              " ('ファーストリテイリング', 0.6918935775756836)]"
            ]
          },
          "metadata": {
            "tags": []
          },
          "execution_count": 20
        }
      ]
    },
    {
      "metadata": {
        "id": "MYJmb27mC0UY",
        "colab_type": "code",
        "outputId": "63d06d7f-a716-4060-b11f-26673272a3f6",
        "colab": {
          "base_uri": "https://localhost:8080/",
          "height": 88
        }
      },
      "cell_type": "code",
      "source": [
        "model.similarity('女性', '男性')"
      ],
      "execution_count": 0,
      "outputs": [
        {
          "output_type": "stream",
          "text": [
            "/usr/local/lib/python3.6/dist-packages/gensim/matutils.py:737: FutureWarning: Conversion of the second argument of issubdtype from `int` to `np.signedinteger` is deprecated. In future, it will be treated as `np.int64 == np.dtype(int).type`.\n",
            "  if np.issubdtype(vec.dtype, np.int):\n"
          ],
          "name": "stderr"
        },
        {
          "output_type": "execute_result",
          "data": {
            "text/plain": [
              "0.9058139"
            ]
          },
          "metadata": {
            "tags": []
          },
          "execution_count": 21
        }
      ]
    },
    {
      "metadata": {
        "id": "YRpEWDtWC0Ua",
        "colab_type": "code",
        "outputId": "30a5206e-05c8-4906-e69a-af078fdb0b93",
        "colab": {
          "base_uri": "https://localhost:8080/",
          "height": 714
        }
      },
      "cell_type": "code",
      "source": [
        "model['computer']  # raw NumPy vector of a word"
      ],
      "execution_count": 0,
      "outputs": [
        {
          "output_type": "execute_result",
          "data": {
            "text/plain": [
              "array([ 1.4723082 , -0.06937106,  1.7237006 , -1.8213916 ,  3.447094  ,\n",
              "       -3.3018548 ,  0.6541817 , -0.03291951,  2.8254745 ,  2.1842494 ,\n",
              "       -0.7741642 , -0.9721557 ,  0.49542773,  6.194368  , -2.1418328 ,\n",
              "        4.517034  ,  2.5653327 ,  6.299818  , -3.8458145 , -0.541454  ,\n",
              "       -0.4938948 , -0.4034415 , -2.6651735 ,  1.9598294 ,  2.484359  ,\n",
              "       -1.7621309 , -3.0647998 ,  4.1010056 ,  0.56283885, -0.07535247,\n",
              "       -4.98969   , -4.9604316 , -2.2470493 ,  2.9032536 ,  0.7902957 ,\n",
              "       -1.5486714 ,  2.909806  ,  1.5176147 , -1.4725752 , -3.9387634 ,\n",
              "        2.4527872 , -2.3244455 , -0.1488397 ,  1.807624  , -3.1853185 ,\n",
              "       -1.5303105 , -1.92837   ,  1.0083524 ,  0.13638909, -0.944819  ,\n",
              "       -0.5313138 , -0.9260136 , -1.3875957 ,  1.1831799 , -0.9107195 ,\n",
              "       -4.925453  ,  1.2345735 , -0.5414666 ,  2.7276256 , -3.7973208 ,\n",
              "       -0.39896828, -2.2013686 ,  0.05336371,  2.5075989 , -2.9244626 ,\n",
              "        1.9991539 , -1.3740122 , -3.2022212 ,  3.3928213 ,  0.46195596,\n",
              "       -0.61421293,  4.0676923 ,  0.13540071, -0.17882118, -2.3756502 ,\n",
              "        2.1787903 ,  0.39287022, -4.749739  , -2.5916758 ,  0.6158852 ,\n",
              "        2.2555559 , -2.5278354 ,  2.994743  ,  2.7544644 , -3.967294  ,\n",
              "        0.76907086, -0.4619636 , -2.349427  ,  3.9460802 ,  0.09085013,\n",
              "       -2.2395175 ,  0.2196879 ,  4.1301594 , -3.210535  , -1.4086689 ,\n",
              "       -1.381161  ,  3.2663639 ,  1.3519659 ,  0.81056285, -0.7843723 ,\n",
              "        0.82072645, -0.61947745,  0.86360985,  1.2608967 ,  3.6432164 ,\n",
              "        0.77301514,  0.38716254, -1.5134358 , -0.09039284,  6.104863  ,\n",
              "       -0.29183048, -1.033378  , -0.82554984, -0.6198695 ,  0.8781623 ,\n",
              "       -0.20016426, -2.605826  ,  2.2436576 ,  2.0298607 ,  0.27188304,\n",
              "       -0.5650767 ,  1.8350763 ,  3.510999  ,  2.2037053 ,  2.5190353 ,\n",
              "        1.6039767 , -0.9071907 , -3.5799026 , -0.9203771 , -0.6116887 ,\n",
              "        2.8806193 ,  1.4322422 , -1.7776648 , -2.9237938 ,  2.6484556 ,\n",
              "        1.5826478 , -0.26782838,  0.33834013, -0.2077544 ,  3.6691725 ,\n",
              "       -0.85051113, -4.867179  , -1.0436224 ,  0.9153734 , -1.8136073 ,\n",
              "        0.49306926,  2.0329702 ,  5.8589463 , -3.3615975 ,  3.3205473 ,\n",
              "       -0.18104784,  1.9031057 , -0.7412676 , -3.9121418 ,  2.1655097 ,\n",
              "       -0.76154375,  3.2284563 , -3.5941627 ,  0.48659965, -0.119611  ,\n",
              "        1.7465059 , -1.4118265 , -0.37749276,  0.98190755,  0.7216946 ,\n",
              "       -1.0574546 , -2.7927537 ,  2.5617285 ,  1.1324644 , -3.400843  ,\n",
              "        0.28032628,  5.9220552 ,  4.043921  , -4.793795  , -1.2962495 ,\n",
              "        2.2616253 ,  1.4343197 , -0.2991565 , -0.34243566, -1.0193028 ,\n",
              "       -0.7921042 ,  1.5896796 , -1.0181568 , -1.215065  , -2.452286  ,\n",
              "        2.5124485 ,  0.26090282,  0.57599837, -1.041984  , -1.6432097 ,\n",
              "       -2.5163476 ,  1.6568395 , -1.3752147 ,  0.32301548,  0.9316571 ,\n",
              "       -1.0289786 ,  2.533333  , -1.3650304 , -0.82252187, -0.9451205 ],\n",
              "      dtype=float32)"
            ]
          },
          "metadata": {
            "tags": []
          },
          "execution_count": 22
        }
      ]
    },
    {
      "metadata": {
        "id": "d65m-1raC0Uc",
        "colab_type": "code",
        "outputId": "3413bd45-3c65-448b-b1e1-95d2aaeed59a",
        "colab": {
          "base_uri": "https://localhost:8080/",
          "height": 884
        }
      },
      "cell_type": "code",
      "source": [
        "model['コンピュータ']  # raw NumPy vector of a word"
      ],
      "execution_count": 0,
      "outputs": [
        {
          "output_type": "execute_result",
          "data": {
            "text/plain": [
              "array([ 7.5235623e-01,  1.1180742e+00,  7.5666988e-01, -5.9514637e+00,\n",
              "        3.2370415e+00,  2.1595771e+00,  3.1052387e+00,  1.6324632e+00,\n",
              "        3.9981132e+00,  2.6526842e-01, -4.1970463e+00, -5.3796229e+00,\n",
              "        3.7749004e+00,  7.5422859e+00, -7.2037196e-01,  4.5815110e+00,\n",
              "       -1.9826394e+00,  1.8717223e+00, -4.6812832e-02,  4.8204165e+00,\n",
              "        1.8310248e+00, -2.0651488e+00,  1.1552908e+00,  2.1009834e+00,\n",
              "       -1.2197815e+00, -5.3786993e-01, -4.3397288e+00,  1.8955697e+00,\n",
              "        4.4822545e+00, -2.1227765e+00, -4.4052939e+00, -1.0701097e+01,\n",
              "       -2.6553500e+00, -3.5162063e+00, -1.3573288e+00, -3.3200755e+00,\n",
              "        4.0951867e+00, -1.1729480e+00, -1.7517458e+00, -1.8983167e+00,\n",
              "        4.8245649e+00, -9.9969029e-01, -1.6064606e+00,  5.1358051e+00,\n",
              "       -3.7534523e-01, -4.9987235e+00, -7.5182223e-01, -1.8213524e+00,\n",
              "       -3.5926826e+00,  5.6319398e-01, -5.7091397e-01, -3.0641029e+00,\n",
              "        1.8239466e+00, -3.0372915e+00, -2.2791467e+00, -5.3284707e+00,\n",
              "        1.0440341e+00,  5.0267448e+00,  3.6705337e+00, -2.2974322e+00,\n",
              "        2.6359797e+00, -2.9843218e+00,  2.0601195e-01,  3.2735927e+00,\n",
              "       -2.6785550e+00,  1.6624674e+00, -1.0093627e+00, -8.5227835e-01,\n",
              "        4.8296695e+00,  6.7607003e-01, -9.7611505e-01,  5.8231235e+00,\n",
              "       -2.8223312e-01,  3.4594264e+00,  7.4148792e-01,  2.3941848e+00,\n",
              "       -1.9666353e-01, -4.2884326e+00,  1.2666813e-01,  2.5345082e+00,\n",
              "        3.2439268e+00, -7.6930195e-01,  1.6633257e+00,  1.7537724e+00,\n",
              "       -2.5087981e+00,  2.9097087e+00, -1.0980383e+00, -2.4470720e+00,\n",
              "        3.3332257e+00,  1.4172659e+00, -1.7504374e+00,  2.6047223e+00,\n",
              "        4.5491314e+00, -3.6407816e+00, -1.4458003e+00, -1.4626827e+00,\n",
              "        9.6525383e-01,  2.5373402e+00,  3.0877974e+00, -2.1429443e+00,\n",
              "        3.4315946e+00,  3.8893130e-01,  2.6234059e+00,  9.1063255e-01,\n",
              "        7.8993082e+00,  2.7983165e+00, -1.9583302e+00,  6.2576270e-01,\n",
              "        6.1599559e-01,  5.2896781e+00, -2.0859423e+00, -3.1369206e-01,\n",
              "        3.4018118e+00,  2.5830069e+00,  1.6533406e+00, -1.3129369e+00,\n",
              "       -5.7124858e+00, -2.6202340e+00,  2.2817292e+00, -3.5620625e+00,\n",
              "        2.6683607e+00,  2.9332542e+00,  5.2063317e+00, -2.0904481e+00,\n",
              "        2.7198415e+00,  4.2182121e+00,  2.0128207e+00, -1.7141453e+00,\n",
              "       -3.0147719e+00, -3.3196509e+00,  2.7916846e+00, -3.0350666e+00,\n",
              "        5.4242152e-01,  7.3468405e-01, -3.8916605e+00,  2.3017228e-01,\n",
              "       -1.0060022e+00,  1.3474666e+00,  6.4269719e+00,  8.0701214e-01,\n",
              "       -5.6892629e+00,  1.3220505e-01, -3.0226200e+00,  2.1652637e-01,\n",
              "       -6.0622931e-01,  3.6884189e+00,  4.0867348e+00,  7.9485283e+00,\n",
              "        1.8769118e+00,  2.5416467e+00,  1.3582634e+00,  2.3967166e+00,\n",
              "        1.0214763e+00,  9.7873189e-02,  3.4341626e+00, -2.0752699e+00,\n",
              "        3.1269250e+00,  1.3378795e+00, -1.3645762e+00,  2.1494391e+00,\n",
              "        1.4295956e+00, -6.8560680e-03,  4.0154427e-01, -9.3741435e-01,\n",
              "        2.9473143e+00, -7.1660799e-01,  1.6438801e+00,  2.4884744e+00,\n",
              "       -2.9229422e+00,  3.9342272e-01,  4.3193418e-01,  4.4073215e+00,\n",
              "        4.9941154e+00, -8.5417900e+00,  2.1788220e+00,  3.8134019e+00,\n",
              "       -2.7914996e+00,  7.7036828e-01,  1.6549767e+00,  1.2461865e+00,\n",
              "       -2.0294464e+00, -1.1721064e+00,  8.8426226e-01, -1.3492811e+00,\n",
              "       -1.8894563e+00, -2.5063553e-01,  1.8377070e+00,  2.9759896e+00,\n",
              "       -6.3112026e-01, -4.3905208e-01, -1.7907842e+00, -1.2012175e+00,\n",
              "        2.7479928e+00,  3.9375648e+00, -7.3689466e+00, -2.8397460e+00,\n",
              "       -5.6745291e-01, -8.5774988e-01,  2.7862817e-01,  1.7653991e+00],\n",
              "      dtype=float32)"
            ]
          },
          "metadata": {
            "tags": []
          },
          "execution_count": 23
        }
      ]
    },
    {
      "metadata": {
        "id": "14qdfOJ6C0Ue",
        "colab_type": "code",
        "outputId": "a9249d2c-a7ab-4f2a-a951-961ec2958f8c",
        "colab": {
          "base_uri": "https://localhost:8080/",
          "height": 88
        }
      },
      "cell_type": "code",
      "source": [
        "model.similarity('computer', 'コンピュータ')"
      ],
      "execution_count": 0,
      "outputs": [
        {
          "output_type": "stream",
          "text": [
            "/usr/local/lib/python3.6/dist-packages/gensim/matutils.py:737: FutureWarning: Conversion of the second argument of issubdtype from `int` to `np.signedinteger` is deprecated. In future, it will be treated as `np.int64 == np.dtype(int).type`.\n",
            "  if np.issubdtype(vec.dtype, np.int):\n"
          ],
          "name": "stderr"
        },
        {
          "output_type": "execute_result",
          "data": {
            "text/plain": [
              "0.55718344"
            ]
          },
          "metadata": {
            "tags": []
          },
          "execution_count": 24
        }
      ]
    },
    {
      "metadata": {
        "id": "2Ynaeq3mC0Uh",
        "colab_type": "code",
        "outputId": "d12c3c6c-6542-4316-fdd0-81f38fc532f9",
        "colab": {
          "base_uri": "https://localhost:8080/",
          "height": 88
        }
      },
      "cell_type": "code",
      "source": [
        "model.similarity('女性', '女')"
      ],
      "execution_count": 0,
      "outputs": [
        {
          "output_type": "stream",
          "text": [
            "/usr/local/lib/python3.6/dist-packages/gensim/matutils.py:737: FutureWarning: Conversion of the second argument of issubdtype from `int` to `np.signedinteger` is deprecated. In future, it will be treated as `np.int64 == np.dtype(int).type`.\n",
            "  if np.issubdtype(vec.dtype, np.int):\n"
          ],
          "name": "stderr"
        },
        {
          "output_type": "execute_result",
          "data": {
            "text/plain": [
              "0.54930073"
            ]
          },
          "metadata": {
            "tags": []
          },
          "execution_count": 25
        }
      ]
    },
    {
      "metadata": {
        "id": "ZDT_IqOKC0Ui",
        "colab_type": "code",
        "outputId": "9a52aa84-b4b9-40c5-ef14-57020c5591be",
        "colab": {
          "base_uri": "https://localhost:8080/",
          "height": 88
        }
      },
      "cell_type": "code",
      "source": [
        "model.similarity('コーヒー', '紅茶')"
      ],
      "execution_count": 0,
      "outputs": [
        {
          "output_type": "stream",
          "text": [
            "/usr/local/lib/python3.6/dist-packages/gensim/matutils.py:737: FutureWarning: Conversion of the second argument of issubdtype from `int` to `np.signedinteger` is deprecated. In future, it will be treated as `np.int64 == np.dtype(int).type`.\n",
            "  if np.issubdtype(vec.dtype, np.int):\n"
          ],
          "name": "stderr"
        },
        {
          "output_type": "execute_result",
          "data": {
            "text/plain": [
              "0.84118736"
            ]
          },
          "metadata": {
            "tags": []
          },
          "execution_count": 26
        }
      ]
    },
    {
      "metadata": {
        "id": "4xl2jP8eC0Uk",
        "colab_type": "code",
        "outputId": "411c0b2a-3064-4c0f-8a66-405872f6758d",
        "colab": {
          "base_uri": "https://localhost:8080/",
          "height": 88
        }
      },
      "cell_type": "code",
      "source": [
        "model.similarity('ビール', '日本酒')"
      ],
      "execution_count": 0,
      "outputs": [
        {
          "output_type": "stream",
          "text": [
            "/usr/local/lib/python3.6/dist-packages/gensim/matutils.py:737: FutureWarning: Conversion of the second argument of issubdtype from `int` to `np.signedinteger` is deprecated. In future, it will be treated as `np.int64 == np.dtype(int).type`.\n",
            "  if np.issubdtype(vec.dtype, np.int):\n"
          ],
          "name": "stderr"
        },
        {
          "output_type": "execute_result",
          "data": {
            "text/plain": [
              "0.635736"
            ]
          },
          "metadata": {
            "tags": []
          },
          "execution_count": 27
        }
      ]
    },
    {
      "metadata": {
        "id": "Q5FiigpyC0Un",
        "colab_type": "code",
        "outputId": "4ea319a1-2c1e-4e01-8e1e-5995180f532e",
        "colab": {
          "base_uri": "https://localhost:8080/",
          "height": 88
        }
      },
      "cell_type": "code",
      "source": [
        "model.most_similar(positive=['Berlin', 'Germany'], negative=['Paris'], topn=1)"
      ],
      "execution_count": 0,
      "outputs": [
        {
          "output_type": "stream",
          "text": [
            "/usr/local/lib/python3.6/dist-packages/gensim/matutils.py:737: FutureWarning: Conversion of the second argument of issubdtype from `int` to `np.signedinteger` is deprecated. In future, it will be treated as `np.int64 == np.dtype(int).type`.\n",
            "  if np.issubdtype(vec.dtype, np.int):\n"
          ],
          "name": "stderr"
        },
        {
          "output_type": "execute_result",
          "data": {
            "text/plain": [
              "[('ザクセン州', 0.6292592883110046)]"
            ]
          },
          "metadata": {
            "tags": []
          },
          "execution_count": 28
        }
      ]
    },
    {
      "metadata": {
        "id": "Hj5ODmY5C0Uo",
        "colab_type": "code",
        "outputId": "f06c5a4c-1480-4553-af9d-c6fa58736d68",
        "colab": {
          "base_uri": "https://localhost:8080/",
          "height": 156
        }
      },
      "cell_type": "code",
      "source": [
        "model.most_similar(positive=['ドイツ','フランス'], negative=['ベルリン'], topn=5)"
      ],
      "execution_count": 0,
      "outputs": [
        {
          "output_type": "stream",
          "text": [
            "/usr/local/lib/python3.6/dist-packages/gensim/matutils.py:737: FutureWarning: Conversion of the second argument of issubdtype from `int` to `np.signedinteger` is deprecated. In future, it will be treated as `np.int64 == np.dtype(int).type`.\n",
            "  if np.issubdtype(vec.dtype, np.int):\n"
          ],
          "name": "stderr"
        },
        {
          "output_type": "execute_result",
          "data": {
            "text/plain": [
              "[('イギリス', 0.7695986032485962),\n",
              " ('イタリア', 0.7167098522186279),\n",
              " ('スペイン', 0.696601152420044),\n",
              " ('ベルギー', 0.6622294187545776),\n",
              " ('ヨーロッパ', 0.6588462591171265)]"
            ]
          },
          "metadata": {
            "tags": []
          },
          "execution_count": 29
        }
      ]
    },
    {
      "metadata": {
        "id": "D0hwUP9KC0Uq",
        "colab_type": "code",
        "outputId": "4d287f75-a506-4be5-e6c1-da7fc0bcd208",
        "colab": {
          "base_uri": "https://localhost:8080/",
          "height": 156
        }
      },
      "cell_type": "code",
      "source": [
        "model.most_similar(positive=['京都','皇居'], negative=['東京'], topn=5)"
      ],
      "execution_count": 0,
      "outputs": [
        {
          "output_type": "stream",
          "text": [
            "/usr/local/lib/python3.6/dist-packages/gensim/matutils.py:737: FutureWarning: Conversion of the second argument of issubdtype from `int` to `np.signedinteger` is deprecated. In future, it will be treated as `np.int64 == np.dtype(int).type`.\n",
            "  if np.issubdtype(vec.dtype, np.int):\n"
          ],
          "name": "stderr"
        },
        {
          "output_type": "execute_result",
          "data": {
            "text/plain": [
              "[('京都御所', 0.7785707712173462),\n",
              " ('御所', 0.7384356260299683),\n",
              " ('二条城', 0.7222719192504883),\n",
              " ('内裏', 0.6589024066925049),\n",
              " ('仙洞御所', 0.6522808074951172)]"
            ]
          },
          "metadata": {
            "tags": []
          },
          "execution_count": 30
        }
      ]
    },
    {
      "metadata": {
        "id": "iMPsMhThC0Ur",
        "colab_type": "code",
        "outputId": "33845590-4b8f-4913-ae47-42ab269a93b6",
        "colab": {
          "base_uri": "https://localhost:8080/",
          "height": 156
        }
      },
      "cell_type": "code",
      "source": [
        "model.most_similar(positive=['東京','早稲田大学'], negative=['大阪'], topn=5)"
      ],
      "execution_count": 0,
      "outputs": [
        {
          "output_type": "stream",
          "text": [
            "/usr/local/lib/python3.6/dist-packages/gensim/matutils.py:737: FutureWarning: Conversion of the second argument of issubdtype from `int` to `np.signedinteger` is deprecated. In future, it will be treated as `np.int64 == np.dtype(int).type`.\n",
            "  if np.issubdtype(vec.dtype, np.int):\n"
          ],
          "name": "stderr"
        },
        {
          "output_type": "execute_result",
          "data": {
            "text/plain": [
              "[('明治大学', 0.7779973745346069),\n",
              " ('法政大学', 0.7675175666809082),\n",
              " ('慶應義塾大学', 0.7615945339202881),\n",
              " ('中央大学', 0.7449471354484558),\n",
              " ('日本大学', 0.7130680680274963)]"
            ]
          },
          "metadata": {
            "tags": []
          },
          "execution_count": 31
        }
      ]
    },
    {
      "metadata": {
        "id": "VOha6Wm3C0Ut",
        "colab_type": "code",
        "colab": {}
      },
      "cell_type": "code",
      "source": [
        "model.most_similar(positive=['納豆','豆腐'], negative=['大豆'],topn=10)"
      ],
      "execution_count": 0,
      "outputs": []
    },
    {
      "metadata": {
        "id": "-D-SJw8QC0Uu",
        "colab_type": "code",
        "colab": {}
      },
      "cell_type": "code",
      "source": [
        "model.most_similar(positive=['権力', '麻薬'], topn=10)"
      ],
      "execution_count": 0,
      "outputs": []
    },
    {
      "metadata": {
        "id": "QFOD8pTXC0Uv",
        "colab_type": "code",
        "colab": {}
      },
      "cell_type": "code",
      "source": [
        "model.most_similar(positive=['治療', '修理'], topn=10)"
      ],
      "execution_count": 0,
      "outputs": []
    },
    {
      "metadata": {
        "id": "NMorvt0hC0Ux",
        "colab_type": "code",
        "colab": {}
      },
      "cell_type": "code",
      "source": [
        "model.most_similar(positive=['月', 'お盆'], topn=10)"
      ],
      "execution_count": 0,
      "outputs": []
    },
    {
      "metadata": {
        "id": "qHPl4VALC0Uy",
        "colab_type": "code",
        "colab": {}
      },
      "cell_type": "code",
      "source": [
        ""
      ],
      "execution_count": 0,
      "outputs": []
    }
  ]
}