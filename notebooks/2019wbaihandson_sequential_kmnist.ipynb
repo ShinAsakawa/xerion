{
  "nbformat": 4,
  "nbformat_minor": 0,
  "metadata": {
    "colab": {
      "name": "2019wbaihandson_sequential-kmnist.ipynb",
      "version": "0.3.2",
      "provenance": [],
      "collapsed_sections": [],
      "include_colab_link": true
    },
    "kernelspec": {
      "display_name": "Python 3",
      "language": "python",
      "name": "python3"
    }
  },
  "cells": [
    {
      "cell_type": "markdown",
      "metadata": {
        "id": "view-in-github",
        "colab_type": "text"
      },
      "source": [
        "<a href=\"https://colab.research.google.com/github/ShinAsakawa/xerion/blob/master/notebooks/2019wbaihandson_sequential_kmnist.ipynb\" target=\"_parent\"><img src=\"https://colab.research.google.com/assets/colab-badge.svg\" alt=\"Open In Colab\"/></a>"
      ]
    },
    {
      "metadata": {
        "id": "OTxuWwuzKkxg",
        "colab_type": "text"
      },
      "cell_type": "markdown",
      "source": [
        "# for [第2回失語症ハンズオン](https://wba-initiative.org/3411/)\n",
        "\n",
        "<div>\n",
        "    <center><img src=\"https://wba-initiative.org/wp-content/uploads/2015/05/logo.png\" style=\"width:29%\"></center>\n",
        "</div>\n",
        "    \n",
        "\n",
        "<div align='right'>\n",
        "<a href='mailto:asakawa@ieee.org'>Shin Aasakawa</a>, all rights reserved.<br>\n",
        "Date: 15/Mar/2019<br>\n",
        " MIT license\n",
        "</div>\n",
        "\n",
        "---\n",
        "\n",
        "## kmnist を系列処理とみなしてリカレントニューラルネットワークによる手書き文字認識"
      ]
    },
    {
      "metadata": {
        "id": "cGP9bv3dKkxi",
        "colab_type": "code",
        "outputId": "2aaaa4e0-0f19-43b6-e36e-c7ec11d883d1",
        "colab": {
          "base_uri": "https://localhost:8080/",
          "height": 35
        }
      },
      "cell_type": "code",
      "source": [
        "\"\"\"\n",
        "[Original](mnist_hierarchical_rnn.py)\n",
        "\n",
        "手書き文字データセット kmnist を系列処理とみなしてリカレントニューラルネットワークによる\n",
        "系列処理で認識精度を実習する\n",
        "\"\"\"\n",
        "import numpy as np\n",
        "import keras\n",
        "from keras.layers import Dense\n",
        "from keras.layers import LSTM\n",
        "from keras.models import Sequential\n",
        "\n",
        "# Training parameters.\n",
        "batch_size = 32\n",
        "num_classes = 10\n",
        "epochs = 5"
      ],
      "execution_count": 0,
      "outputs": [
        {
          "output_type": "stream",
          "text": [
            "Using TensorFlow backend.\n"
          ],
          "name": "stderr"
        }
      ]
    },
    {
      "metadata": {
        "id": "Tgt2Yq0JKkxo",
        "colab_type": "code",
        "outputId": "2dce834d-34bb-4b56-ea4b-25d584b8a098",
        "colab": {
          "base_uri": "https://localhost:8080/",
          "height": 777
        }
      },
      "cell_type": "code",
      "source": [
        "# データの入手が未だの場合は以下の行頭の # を削除して本セルを実行してください\n",
        "!wget http://codh.rois.ac.jp/kmnist/dataset/kmnist/kmnist-train-imgs.npz\n",
        "!wget http://codh.rois.ac.jp/kmnist/dataset/kmnist/kmnist-train-labels.npz \n",
        "!wget http://codh.rois.ac.jp/kmnist/dataset/kmnist/kmnist-test-imgs.npz\n",
        "!wget http://codh.rois.ac.jp/kmnist/dataset/kmnist/kmnist-test-labels.npz"
      ],
      "execution_count": 0,
      "outputs": [
        {
          "output_type": "stream",
          "text": [
            "--2019-03-15 04:51:32--  http://codh.rois.ac.jp/kmnist/dataset/kmnist/kmnist-train-imgs.npz\n",
            "Resolving codh.rois.ac.jp (codh.rois.ac.jp)... 136.187.88.58\n",
            "Connecting to codh.rois.ac.jp (codh.rois.ac.jp)|136.187.88.58|:80... connected.\n",
            "HTTP request sent, awaiting response... 200 OK\n",
            "Length: 18384171 (18M)\n",
            "Saving to: ‘kmnist-train-imgs.npz.1’\n",
            "\n",
            "kmnist-train-imgs.n 100%[===================>]  17.53M  2.32MB/s    in 9.5s    \n",
            "\n",
            "2019-03-15 04:51:42 (1.85 MB/s) - ‘kmnist-train-imgs.npz.1’ saved [18384171/18384171]\n",
            "\n",
            "--2019-03-15 04:51:43--  http://codh.rois.ac.jp/kmnist/dataset/kmnist/kmnist-train-labels.npz\n",
            "Resolving codh.rois.ac.jp (codh.rois.ac.jp)... 136.187.88.58\n",
            "Connecting to codh.rois.ac.jp (codh.rois.ac.jp)|136.187.88.58|:80... connected.\n",
            "HTTP request sent, awaiting response... 200 OK\n",
            "Length: 29700 (29K)\n",
            "Saving to: ‘kmnist-train-labels.npz.1’\n",
            "\n",
            "kmnist-train-labels 100%[===================>]  29.00K  --.-KB/s    in 0.09s   \n",
            "\n",
            "2019-03-15 04:51:43 (323 KB/s) - ‘kmnist-train-labels.npz.1’ saved [29700/29700]\n",
            "\n",
            "--2019-03-15 04:51:45--  http://codh.rois.ac.jp/kmnist/dataset/kmnist/kmnist-test-imgs.npz\n",
            "Resolving codh.rois.ac.jp (codh.rois.ac.jp)... 136.187.88.58\n",
            "Connecting to codh.rois.ac.jp (codh.rois.ac.jp)|136.187.88.58|:80... connected.\n",
            "HTTP request sent, awaiting response... 200 OK\n",
            "Length: 3079479 (2.9M)\n",
            "Saving to: ‘kmnist-test-imgs.npz.1’\n",
            "\n",
            "kmnist-test-imgs.np 100%[===================>]   2.94M  1.67MB/s    in 1.8s    \n",
            "\n",
            "2019-03-15 04:51:47 (1.67 MB/s) - ‘kmnist-test-imgs.npz.1’ saved [3079479/3079479]\n",
            "\n",
            "--2019-03-15 04:51:48--  http://codh.rois.ac.jp/kmnist/dataset/kmnist/kmnist-test-labels.npz\n",
            "Resolving codh.rois.ac.jp (codh.rois.ac.jp)... 136.187.88.58\n",
            "Connecting to codh.rois.ac.jp (codh.rois.ac.jp)|136.187.88.58|:80... connected.\n",
            "HTTP request sent, awaiting response... 200 OK\n",
            "Length: 5304 (5.2K)\n",
            "Saving to: ‘kmnist-test-labels.npz.1’\n",
            "\n",
            "kmnist-test-labels. 100%[===================>]   5.18K  --.-KB/s    in 0s      \n",
            "\n",
            "2019-03-15 04:51:48 (518 MB/s) - ‘kmnist-test-labels.npz.1’ saved [5304/5304]\n",
            "\n"
          ],
          "name": "stdout"
        }
      ]
    },
    {
      "metadata": {
        "id": "-pe5KgHUKkxs",
        "colab_type": "code",
        "outputId": "89e42c86-4628-438a-d709-dddf7c860c5c",
        "colab": {
          "base_uri": "https://localhost:8080/",
          "height": 35
        }
      },
      "cell_type": "code",
      "source": [
        "# 直下行の N=10000 は実習の都合で実際のデータより少なくして学習時間を短くするためです\n",
        "# 実際には全データ，すなわち N=60000 を使って評価する必要があります。\n",
        "N=10000\n",
        "X_train = np.load('kmnist-train-imgs.npz')['arr_0'][:N].reshape(-1,28,28)\n",
        "X_test = np.load('kmnist-test-imgs.npz')['arr_0'].reshape(-1,28,28)\n",
        "y_train = np.load('kmnist-train-labels.npz')['arr_0'][:N]\n",
        "y_test = np.load('kmnist-test-labels.npz')['arr_0']\n",
        "X_train.shape, y_train.shape, X_test.shape, y_test.shape"
      ],
      "execution_count": 0,
      "outputs": [
        {
          "output_type": "execute_result",
          "data": {
            "text/plain": [
              "((10000, 28, 28), (10000,), (10000, 28, 28), (10000,))"
            ]
          },
          "metadata": {
            "tags": []
          },
          "execution_count": 3
        }
      ]
    },
    {
      "metadata": {
        "id": "RA-AtUTaKkxw",
        "colab_type": "code",
        "outputId": "730ccd85-b7a3-4053-fc83-9a87bba59178",
        "colab": {
          "base_uri": "https://localhost:8080/",
          "height": 69
        }
      },
      "cell_type": "code",
      "source": [
        "# 入出力を keras に入力できるように整形します\n",
        "x_train = X_train.astype('float32')\n",
        "x_test = X_test.astype('float32')\n",
        "x_train /= 255\n",
        "x_test /= 255\n",
        "print('x_train shape:', x_train.shape)\n",
        "print(x_train.shape[0], 'train samples')\n",
        "print(x_test.shape[0], 'test samples')\n",
        "\n",
        "# Converts class vectors to binary class matrices.\n",
        "y_train = keras.utils.to_categorical(y_train, num_classes)\n",
        "y_test = keras.utils.to_categorical(y_test, num_classes)"
      ],
      "execution_count": 0,
      "outputs": [
        {
          "output_type": "stream",
          "text": [
            "x_train shape: (10000, 28, 28)\n",
            "10000 train samples\n",
            "10000 test samples\n"
          ],
          "name": "stdout"
        }
      ]
    },
    {
      "metadata": {
        "id": "jt4Y4BlPKkxz",
        "colab_type": "code",
        "outputId": "b139ebff-50a7-4ce4-a648-cc84e0f6d18b",
        "colab": {
          "base_uri": "https://localhost:8080/",
          "height": 89
        }
      },
      "cell_type": "code",
      "source": [
        "model = Sequential()   # モデルの作成\n",
        "model.add(LSTM(32, input_shape=(28, 28), return_sequences=True))\n",
        "model.add(LSTM(16, return_sequences=False))\n",
        "model.add(Dense(num_classes, activation='softmax'))\n",
        "model.compile(loss='categorical_crossentropy',\n",
        "              optimizer='rmsprop',\n",
        "              metrics=['accuracy'])"
      ],
      "execution_count": 0,
      "outputs": [
        {
          "output_type": "stream",
          "text": [
            "WARNING:tensorflow:From /usr/local/lib/python3.6/dist-packages/tensorflow/python/framework/op_def_library.py:263: colocate_with (from tensorflow.python.framework.ops) is deprecated and will be removed in a future version.\n",
            "Instructions for updating:\n",
            "Colocations handled automatically by placer.\n"
          ],
          "name": "stdout"
        }
      ]
    },
    {
      "metadata": {
        "id": "C5TcLzchKkx1",
        "colab_type": "code",
        "outputId": "b833cdac-6aa5-43b6-cef2-0e42c943f368",
        "colab": {
          "base_uri": "https://localhost:8080/",
          "height": 242
        }
      },
      "cell_type": "code",
      "source": [
        "model.summary()  # 作成したモデルほ表示"
      ],
      "execution_count": 0,
      "outputs": [
        {
          "output_type": "stream",
          "text": [
            "_________________________________________________________________\n",
            "Layer (type)                 Output Shape              Param #   \n",
            "=================================================================\n",
            "lstm_1 (LSTM)                (None, 28, 32)            7808      \n",
            "_________________________________________________________________\n",
            "lstm_2 (LSTM)                (None, 16)                3136      \n",
            "_________________________________________________________________\n",
            "dense_1 (Dense)              (None, 10)                170       \n",
            "=================================================================\n",
            "Total params: 11,114\n",
            "Trainable params: 11,114\n",
            "Non-trainable params: 0\n",
            "_________________________________________________________________\n"
          ],
          "name": "stdout"
        }
      ]
    },
    {
      "metadata": {
        "id": "BEs6-npWKkx5",
        "colab_type": "code",
        "outputId": "39c4198c-9269-4563-fa9b-ae440d0b49dc",
        "colab": {
          "base_uri": "https://localhost:8080/",
          "height": 504
        }
      },
      "cell_type": "code",
      "source": [
        "# 訓練の開始\n",
        "epochs = 10\n",
        "model.fit(x_train, y_train,\n",
        "          batch_size=batch_size,\n",
        "          epochs=epochs,\n",
        "          verbose=1,\n",
        "          validation_data=(x_test, y_test))\n",
        "\n",
        "# Evaluation.\n",
        "scores = model.evaluate(x_test, y_test, verbose=True)\n",
        "print('Test loss:', scores[0])\n",
        "print('Test accuracy:', scores[1])"
      ],
      "execution_count": 0,
      "outputs": [
        {
          "output_type": "stream",
          "text": [
            "WARNING:tensorflow:From /usr/local/lib/python3.6/dist-packages/tensorflow/python/ops/math_ops.py:3066: to_int32 (from tensorflow.python.ops.math_ops) is deprecated and will be removed in a future version.\n",
            "Instructions for updating:\n",
            "Use tf.cast instead.\n",
            "Train on 10000 samples, validate on 10000 samples\n",
            "Epoch 1/10\n",
            "10000/10000 [==============================] - 13s 1ms/step - loss: 1.6217 - acc: 0.4614 - val_loss: 1.5657 - val_acc: 0.4752\n",
            "Epoch 2/10\n",
            "10000/10000 [==============================] - 11s 1ms/step - loss: 1.0996 - acc: 0.6664 - val_loss: 1.4222 - val_acc: 0.5463\n",
            "Epoch 3/10\n",
            "10000/10000 [==============================] - 11s 1ms/step - loss: 0.8839 - acc: 0.7301 - val_loss: 1.2291 - val_acc: 0.6075\n",
            "Epoch 4/10\n",
            "10000/10000 [==============================] - 11s 1ms/step - loss: 0.7445 - acc: 0.7745 - val_loss: 1.2039 - val_acc: 0.6197\n",
            "Epoch 5/10\n",
            "10000/10000 [==============================] - 11s 1ms/step - loss: 0.6434 - acc: 0.8059 - val_loss: 1.0739 - val_acc: 0.6618\n",
            "Epoch 6/10\n",
            "10000/10000 [==============================] - 11s 1ms/step - loss: 0.5771 - acc: 0.8203 - val_loss: 1.0191 - val_acc: 0.6865\n",
            "Epoch 7/10\n",
            "10000/10000 [==============================] - 11s 1ms/step - loss: 0.5177 - acc: 0.8426 - val_loss: 0.9654 - val_acc: 0.6986\n",
            "Epoch 8/10\n",
            "10000/10000 [==============================] - 11s 1ms/step - loss: 0.4728 - acc: 0.8555 - val_loss: 0.8967 - val_acc: 0.7216\n",
            "Epoch 9/10\n",
            "10000/10000 [==============================] - 11s 1ms/step - loss: 0.4332 - acc: 0.8663 - val_loss: 0.9086 - val_acc: 0.7197\n",
            "Epoch 10/10\n",
            "10000/10000 [==============================] - 11s 1ms/step - loss: 0.3973 - acc: 0.8780 - val_loss: 0.8496 - val_acc: 0.7371\n",
            "10000/10000 [==============================] - 2s 182us/step\n",
            "Test loss: 0.8496000136375427\n",
            "Test accuracy: 0.7371\n"
          ],
          "name": "stdout"
        }
      ]
    },
    {
      "metadata": {
        "id": "Xs8hkP2RKkx8",
        "colab_type": "code",
        "colab": {}
      },
      "cell_type": "code",
      "source": [
        ""
      ],
      "execution_count": 0,
      "outputs": []
    }
  ]
}