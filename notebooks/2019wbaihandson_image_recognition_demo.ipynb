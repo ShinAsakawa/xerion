{
  "nbformat": 4,
  "nbformat_minor": 0,
  "metadata": {
    "colab": {
      "name": "2019wbaihandson_image_recognition_demo.ipynb",
      "version": "0.3.2",
      "provenance": [],
      "private_outputs": true,
      "collapsed_sections": [],
      "include_colab_link": true
    },
    "kernelspec": {
      "name": "python3",
      "display_name": "Python 3"
    }
  },
  "cells": [
    {
      "cell_type": "markdown",
      "metadata": {
        "id": "view-in-github",
        "colab_type": "text"
      },
      "source": [
        "<a href=\"https://colab.research.google.com/github/ShinAsakawa/xerion/blob/master/notebooks/2019wbaihandson_image_recognition_demo.ipynb\" target=\"_parent\"><img src=\"https://colab.research.google.com/assets/colab-badge.svg\" alt=\"Open In Colab\"/></a>"
      ]
    },
    {
      "metadata": {
        "id": "XwV30-w9p4hK",
        "colab_type": "text"
      },
      "cell_type": "markdown",
      "source": [
        "<center>\n",
        "<h1>[第2回失語症ハンズオン](https://wba-initiative.org/3411/)</h1>\n",
        "</center>\n",
        "\n",
        "<center>\n",
        "<a href='https://wba-initiative.org/'><img src=\"https://wba-initiative.org/wp-content/uploads/2015/05/logo.png\"></a>\n",
        "</center>\n",
        "\n",
        "<div align='right'>\n",
        "<a href='mailto:asakawa@ieee.org'>Shin Aasakawa</a>, all rights reserved.<br>\n",
        "Date: 15/Mar/2019<br>\n",
        "Appache 2.0 license\n",
        "</div>\n",
        "\n",
        "## 開催情報\n",
        "- 日時：2019年3月21日木曜日(春分の日) 11:00-16:00\n",
        "    - 11時集合\n",
        "    - 11:00-12:00 オリエンテーション\n",
        "    - 13:00-15:00 ハンズオン\n",
        "    - 15:00-15:45 結果の発表\n",
        "    - 15:45-16:00 まとめ\n",
        "- 開催場所: [φカフェ](https://phi.cafe/) （文京区本郷5丁目24-5 角川本郷ビル6階）\n",
        "- テーマ: [深層失読](https://en.wikipedia.org/wiki/Deep_dyslexia)\n",
        "- 応募資格:\n",
        "    - 人間と機械の知性について興味にある方\n",
        "    - ノートパソコンを持参できる方\n",
        "    -  [Google Colaboratory](https://colab.research.google.com/notebooks/welcome.ipynb?hl=ja)（クラウド） 上に環境を準備します（[Chrome](https://www.google.com/chrome/) 推奨）。\n",
        "- 体制\n",
        "    - 実行委員会：\n",
        "    - 武藤淳（藤田保健衛生大学、慶應義塾大学脳神経外科）\n",
        "    - 浅川伸一（東京女子大学）\n",
        "    - スーパーバイザ\n",
        "    - 村西幸代（君津中央病院言語治療室）\n",
        "    - 古川大輔（君津中央病院言語治療室）\n",
        "    - 大関洋平（早稲田大学・理研革新知能統合研究センター）\n",
        "    - 計算論的心理言語学東京 Computational Psycholinguistics Tokyo (CPT)\n",
        "- 事前資料：[失語，失読に関する神経心理学モデルの基礎](https://github.com/ShinAsakawa/xerion/blob/master/docs/2019Primer_AphasiaDyslexia.pdf)\n",
        "- 問い合わせ先：浅川伸一（asakawa@ieee.org）\n"
      ]
    },
    {
      "metadata": {
        "id": "qkSIv_KkS3L1",
        "colab_type": "code",
        "colab": {}
      },
      "cell_type": "code",
      "source": [
        "import numpy as np\n",
        "from keras.applications.resnet50 import ResNet50\n",
        "from keras.preprocessing import image\n",
        "from keras.applications.resnet50 import preprocess_input, decode_predictions\n",
        "\n",
        "def recognize(image_path='cat.jpg'):\n",
        "    model = ResNet50(weights='imagenet')\n",
        "    img = image.load_img(image_path, target_size=(224, 224))\n",
        "    x = image.img_to_array(img)\n",
        "    x = np.expand_dims(x, axis=0)\n",
        "    x = preprocess_input(x)\n",
        "\n",
        "    preds = model.predict(x)\n",
        "    p = decode_predictions(preds)\n",
        "    for pp in p:\n",
        "        for pp2 in pp:\n",
        "            print('{0}:{1:.05f}'.format(pp2[1],pp2[2]))"
      ],
      "execution_count": 0,
      "outputs": []
    },
    {
      "metadata": {
        "id": "wtWh4vtvb5o_",
        "colab_type": "code",
        "colab": {}
      },
      "cell_type": "code",
      "source": [
        "!wget http://img.bikebros.co.jp/vb_img/photo/topics/180213/img/07.jpg"
      ],
      "execution_count": 0,
      "outputs": []
    },
    {
      "metadata": {
        "id": "JGpQgfvf2_8L",
        "colab_type": "code",
        "colab": {}
      },
      "cell_type": "code",
      "source": [
        "!wget https://www.the-cat-guide.com/wp-content/uploads/2017/03/Domestic-Cat-House-Cat-770x513.jpg"
      ],
      "execution_count": 0,
      "outputs": []
    },
    {
      "metadata": {
        "id": "gs5Hdw-teeVe",
        "colab_type": "code",
        "colab": {}
      },
      "cell_type": "code",
      "source": [
        "recognize('Domestic-Cat-House-Cat-770x513.jpg')"
      ],
      "execution_count": 0,
      "outputs": []
    },
    {
      "metadata": {
        "id": "s80NL9JNe3bu",
        "colab_type": "code",
        "colab": {}
      },
      "cell_type": "code",
      "source": [
        "!wget https://d1uzk9o9cg136f.cloudfront.net/f/16782548/rc/2018/02/26/e3b74a91b86c308f357c391a9ef88791927ef9ad_xlarge.jpg"
      ],
      "execution_count": 0,
      "outputs": []
    },
    {
      "metadata": {
        "id": "pCFai-KAfhQb",
        "colab_type": "code",
        "colab": {}
      },
      "cell_type": "code",
      "source": [
        "recognize('e3b74a91b86c308f357c391a9ef88791927ef9ad_xlarge.jpg')"
      ],
      "execution_count": 0,
      "outputs": []
    },
    {
      "metadata": {
        "id": "CmMZkmmQgqM0",
        "colab_type": "text"
      },
      "cell_type": "markdown",
      "source": [
        "## ローカル PC (ご自身のパソコン)から `colab` へファイルを転送する方法\n",
        "\n",
        "  - [Source](https://stackoverflow.com/questions/46986398/import-data-into-google-colaboratory/47019779)\n",
        "  - [Official account](https://colab.research.google.com/notebooks/io.ipynb)\n",
        "\n",
        "1. ファイルのアップロード\n",
        "```python\n",
        "from google.colab import files\n",
        "files.upload()\n",
        "```\n",
        "2. ファイルのダウンロード\n",
        "```python\n",
        "files.download('filename')\n",
        "```\n",
        "\n",
        "3. ファイルの表示\n",
        "```python\n",
        "import os\n",
        "os.listdir()\n",
        "```\n"
      ]
    },
    {
      "metadata": {
        "id": "cVlirlKBg0ax",
        "colab_type": "code",
        "colab": {}
      },
      "cell_type": "code",
      "source": [
        "\n",
        "# [Source](https://stackoverflow.com/questions/46986398/import-data-into-google-colaboratory/47019779)\n",
        "# [Official account](https://colab.research.google.com/notebooks/io.ipynb)\n",
        "\n",
        "# ファイルのアップロードには次のようにします(Upload) \n",
        "# ダイアログボックスが表示されるので指示に従ってください\n",
        "from google.colab import files\n",
        "files.upload()"
      ],
      "execution_count": 0,
      "outputs": []
    },
    {
      "metadata": {
        "id": "YgFW_ZJdg-cB",
        "colab_type": "code",
        "colab": {}
      },
      "cell_type": "code",
      "source": [
        "# ファイルのダウンロードには次のようにします(Download)\n",
        "# 下の 'filename' を実在するファイル名に書き換えてください。\n",
        "#files.download('filename')\n",
        "\n",
        "# 以下を実行すると 'README.md' というファイルがご自身の PC にダウンロードされます\n",
        "files.download('sample_data/README.md')"
      ],
      "execution_count": 0,
      "outputs": []
    },
    {
      "metadata": {
        "id": "rfuFUPBphrDb",
        "colab_type": "code",
        "colab": {}
      },
      "cell_type": "code",
      "source": [
        "# 任意のディレクトリ(ホルダ)の情報を表示します\n",
        "import os\n",
        "os.listdir()\n",
        "os.listdir('sample_data')"
      ],
      "execution_count": 0,
      "outputs": []
    },
    {
      "metadata": {
        "id": "i8hA7dIAiLce",
        "colab_type": "code",
        "colab": {}
      },
      "cell_type": "code",
      "source": [
        ""
      ],
      "execution_count": 0,
      "outputs": []
    }
  ]
}