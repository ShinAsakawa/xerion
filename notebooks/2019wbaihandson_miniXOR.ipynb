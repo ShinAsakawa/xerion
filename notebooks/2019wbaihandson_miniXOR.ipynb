{
  "nbformat": 4,
  "nbformat_minor": 0,
  "metadata": {
    "colab": {
      "name": "2019wbaihandson_miniXOR.ipynb",
      "version": "0.3.2",
      "provenance": [],
      "collapsed_sections": [],
      "include_colab_link": true
    },
    "kernelspec": {
      "display_name": "Python 3",
      "language": "python",
      "name": "python3"
    }
  },
  "cells": [
    {
      "cell_type": "markdown",
      "metadata": {
        "id": "view-in-github",
        "colab_type": "text"
      },
      "source": [
        "<a href=\"https://colab.research.google.com/github/ShinAsakawa/xerion/blob/master/notebooks/2019wbaihandson_miniXOR.ipynb\" target=\"_parent\"><img src=\"https://colab.research.google.com/assets/colab-badge.svg\" alt=\"Open In Colab\"/></a>"
      ]
    },
    {
      "metadata": {
        "id": "0upLTzCTpbH6",
        "colab_type": "text"
      },
      "cell_type": "markdown",
      "source": [
        "# [第2回失語症ハンズオン](https://wba-initiative.org/3411/)\n",
        "\n",
        "<div>\n",
        "    <center><img src=\"https://wba-initiative.org/wp-content/uploads/2015/05/logo.png\" style=\"width:29%\"></center>\n",
        "</div>\n",
        "    \n",
        "\n",
        "<div align='right'>\n",
        "<a href='mailto:asakawa@ieee.org'>Shin Aasakawa</a>, all rights reserved.<br>\n",
        "Date: 15/Mar/2019<br>\n",
        " MIT license\n",
        "</div>\n",
        "\n",
        "---\n",
        "\n",
        "# 最短コードで排他的論理和\n"
      ]
    },
    {
      "metadata": {
        "id": "_oo2wGt7m8Ci",
        "colab_type": "code",
        "colab": {}
      },
      "cell_type": "code",
      "source": [
        "import numpy as np                                 # numpy ライブラリの輸入\n",
        "np.set_printoptions(precision=2)                   # 表示桁数の設定\n",
        "np.random.seed(109)                                 # 乱数系列の初期化\n",
        "X = np.array([ [0,0,1],[0,1,1],[1,0,1],[1,1,1] ])\n",
        "y = np.array([[0,1,1,0]]).T\n",
        "w0 = 2 * np.random.random((3,4)) - 1\n",
        "w1 = 2 * np.random.random((4,1)) - 1\n",
        "for i in range(500):\n",
        "    l1 = np.tanh(np.dot(X,w0))                     # tanh\n",
        "    #l1 = 1/(1+np.exp(-(np.dot(X,w0))))            # sigmoid\n",
        "    l2 = 1/(1+np.exp(-(np.dot(l1,w1))))\n",
        "    dl2 = (y - l2) * (l2 * (1 - l2))\n",
        "    dl1 = dl2.dot(w1.T) * (1 - l1 ** 2)            # tanh\n",
        "    #dl1 = dl2.dot(w1.T) * (11 * (1-l1))           # sigmoid\n",
        "    w1 += np.dot(l1.T, dl2)\n",
        "    w0 += np.dot(X.T, dl1)\n",
        "    print(l2.T) if i % 100 == 0 else None\n",
        "    #if np.sum(np.square(y - l2)) < 0.01:\n",
        "    #    print(i, l2.T)\n",
        "    #    break"
      ],
      "execution_count": 0,
      "outputs": []
    },
    {
      "metadata": {
        "id": "hZq65BSdn-I-",
        "colab_type": "code",
        "colab": {}
      },
      "cell_type": "code",
      "source": [
        "# 上の例は中間層から出力層へ行くバイアス項が無いので修正\n",
        "import numpy as np\n",
        "np.set_printoptions(precision=2)\n",
        "np.random.seed()\n",
        "n_hid = 10\n",
        "X = np.array([ [0,0],[0,1],[1,0],[1,1]])\n",
        "y = np.array([[0,1,1,0]]).T\n",
        "b = np.ones((X.shape[0],1))\n",
        "w1 = 2 * np.random.random((X.shape[1]+1, n_hid)) - 1\n",
        "w2 = 2 * np.random.random((n_hid+1,y.shape[1])) - 1\n",
        "iter_max = 500\n",
        "for i in range(iter_max):\n",
        "    l1 = 1/(1+np.exp(-(np.dot(np.concatenate((X,b),axis=1),w1))))  # sigmoid\n",
        "    #l1 = np.tanh(np.dot(np.concatenate((X,b),axis=1),w1))           # tanh\n",
        "    l2 = 1/(1+np.exp(-(np.dot(np.concatenate((l1,b),axis=1),w2))))\n",
        "    #dl2 = (y - l2) * (l2 * (1 - l2))                               # sigmoid\n",
        "    dl2 = (y - l2) * (l2 - l2 **2)                                  # tanh\n",
        "    dl1 = np.dot(dl2, w2.T) * (np.concatenate((l1,b),axis=1) * (1-np.concatenate((l1,b),axis=1)))\n",
        "    w2 += np.dot(np.concatenate((l1,b),axis=1).T, dl2)\n",
        "    w1 += np.dot(np.concatenate((X,b),axis=1).T, dl1[:,:-1])\n",
        "    print(l2.T) if i % 100 == 0 else None\n",
        "#print(l2.T)"
      ],
      "execution_count": 0,
      "outputs": []
    },
    {
      "metadata": {
        "id": "_lLKYgGAz9PW",
        "colab_type": "text"
      },
      "cell_type": "markdown",
      "source": [
        "----\n",
        "\n",
        "他の手法を使うとどうなるか？\n",
        "\n",
        "## ロジスティック回帰の場合"
      ]
    },
    {
      "metadata": {
        "id": "g53m_MFjnDby",
        "colab_type": "code",
        "colab": {}
      },
      "cell_type": "code",
      "source": [
        "from sklearn.linear_model import LogisticRegression\n",
        "\n",
        "model = LogisticRegression()\n",
        "model.fit(X,y)\n",
        "model.score(X,y)\n",
        "model.predict(X)"
      ],
      "execution_count": 0,
      "outputs": []
    },
    {
      "metadata": {
        "id": "_uJ2JstM0NIq",
        "colab_type": "text"
      },
      "cell_type": "markdown",
      "source": [
        "---\n",
        "\n",
        "## ランダムフォレストの場合\n"
      ]
    },
    {
      "metadata": {
        "id": "x5HkRzVm0K2B",
        "colab_type": "code",
        "colab": {}
      },
      "cell_type": "code",
      "source": [
        "from sklearn.ensemble import RandomForestClassifier\n",
        "model = RandomForestClassifier()\n",
        "model.fit(X,y)\n",
        "model.score(X,y)\n",
        "model.predict(X)"
      ],
      "execution_count": 0,
      "outputs": []
    },
    {
      "metadata": {
        "id": "FVX7jrrM0XXI",
        "colab_type": "text"
      },
      "cell_type": "markdown",
      "source": [
        "---\n",
        "\n",
        "## SVM の場合\n"
      ]
    },
    {
      "metadata": {
        "id": "tXjTER680WRI",
        "colab_type": "code",
        "colab": {}
      },
      "cell_type": "code",
      "source": [
        "from sklearn.svm import SVC\n",
        "model = SVC(kernel='rbf')\n",
        "model.fit(X,y)\n",
        "model.score(X,y)\n",
        "model.predict(X)"
      ],
      "execution_count": 0,
      "outputs": []
    },
    {
      "metadata": {
        "id": "1HTC6dyD0gKz",
        "colab_type": "text"
      },
      "cell_type": "markdown",
      "source": [
        "---\n",
        "\n",
        "### SVM の場合(2)"
      ]
    },
    {
      "metadata": {
        "id": "6i1a1RQR0eBm",
        "colab_type": "code",
        "colab": {}
      },
      "cell_type": "code",
      "source": [
        "model = SVC(kernel='sigmoid')\n",
        "model.fit(X,y)\n",
        "model.score(X,y)\n",
        "model.predict(X)"
      ],
      "execution_count": 0,
      "outputs": []
    },
    {
      "metadata": {
        "id": "2lF_2a7O0oX_",
        "colab_type": "code",
        "colab": {}
      },
      "cell_type": "code",
      "source": [
        ""
      ],
      "execution_count": 0,
      "outputs": []
    }
  ]
}