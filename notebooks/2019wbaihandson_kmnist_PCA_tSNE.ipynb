{
  "nbformat": 4,
  "nbformat_minor": 0,
  "metadata": {
    "colab": {
      "name": "2019wbaihandson_kmnist_PCA-tSNE.ipynb",
      "version": "0.3.2",
      "provenance": [],
      "collapsed_sections": [],
      "include_colab_link": true
    },
    "kernelspec": {
      "display_name": "Python 2",
      "language": "python",
      "name": "python2"
    }
  },
  "cells": [
    {
      "cell_type": "markdown",
      "metadata": {
        "id": "view-in-github",
        "colab_type": "text"
      },
      "source": [
        "<a href=\"https://colab.research.google.com/github/ShinAsakawa/xerion/blob/master/notebooks/2019wbaihandson_kmnist_PCA_tSNE.ipynb\" target=\"_parent\"><img src=\"https://colab.research.google.com/assets/colab-badge.svg\" alt=\"Open In Colab\"/></a>"
      ]
    },
    {
      "metadata": {
        "id": "MtVwswvUgD4c",
        "colab_type": "text"
      },
      "cell_type": "markdown",
      "source": [
        "# [第2回失語症ハンズオン](https://wba-initiative.org/3411/)\n",
        "\n",
        "<div>\n",
        "    <center><img src=\"https://wba-initiative.org/wp-content/uploads/2015/05/logo.png\" style=\"width:29%\"></center>\n",
        "</div>\n",
        "    \n",
        "\n",
        "<div align='right'>\n",
        "<a href='mailto:asakawa@ieee.org'>Shin Aasakawa</a>, all rights reserved.<br>\n",
        "Date: 15/Mar/2019<br>\n",
        " MIT license\n",
        "</div>\n",
        "\n",
        "---\n",
        "\n",
        "# kmnist によるPCA, tSNE など\n",
        "\n",
        "[Original](https://github.com/alrojo/tensorflow-tutorial/tree/master/lab1_FFN)\n",
        "\n",
        "---"
      ]
    },
    {
      "metadata": {
        "id": "iGQLRnx4gD4e",
        "colab_type": "text"
      },
      "cell_type": "markdown",
      "source": [
        "\n",
        "<div>\n",
        "  <p>\n",
        "[kminst](http://codh.rois.ac.jp/kmnist/) で少し遊んでみます。あらかじめ下記の `kmnist` データが用意できているものとします\n",
        "  </p>\n",
        "</div>\n",
        "\n",
        "\n",
        "  \n",
        "| File            | Examples | Download (MNIST format)    | Download (NumPy format)      |\n",
        "|-----------------|--------------------|----------------------------|------------------------------|\n",
        "| Training images | 60,000             | [train-images-idx3-ubyte.gz](http://codh.rois.ac.jp/kmnist/dataset/kmnist/train-images-idx3-ubyte.gz) (18MB) | [kmnist-train-imgs.npz](http://codh.rois.ac.jp/kmnist/dataset/kmnist/kmnist-train-imgs.npz) (18MB)   |\n",
        "| Training labels | 60,000             | [train-labels-idx1-ubyte.gz](http://codh.rois.ac.jp/kmnist/dataset/kmnist/train-labels-idx1-ubyte.gz) (30KB) | [kmnist-train-labels.npz](http://codh.rois.ac.jp/kmnist/dataset/kmnist/kmnist-train-labels.npz) (30KB)  |\n",
        "| Testing images  | 10,000             | [t10k-images-idx3-ubyte.gz](http://codh.rois.ac.jp/kmnist/dataset/kmnist/t10k-images-idx3-ubyte.gz) (3MB) | [kmnist-test-imgs.npz](http://codh.rois.ac.jp/kmnist/dataset/kmnist/kmnist-test-imgs.npz) (3MB)   |\n",
        "| Testing labels  | 10,000             | [t10k-labels-idx1-ubyte.gz](http://codh.rois.ac.jp/kmnist/dataset/kmnist/t10k-labels-idx1-ubyte.gz) (5KB)  | [kmnist-test-labels.npz](http://codh.rois.ac.jp/kmnist/dataset/kmnist/kmnist-test-labels.npz) (5KB) |\n",
        "\n"
      ]
    },
    {
      "metadata": {
        "id": "3lbt1zvgLr15",
        "colab_type": "code",
        "colab": {
          "base_uri": "https://localhost:8080/",
          "height": 210
        },
        "outputId": "d78afa83-4e2d-42a3-e8a0-06e6b0f133c1"
      },
      "cell_type": "code",
      "source": [
        "%%html\n",
        "<div>\n",
        "<center>\n",
        "<img src=\"http://codh.rois.ac.jp/img/kmnist.png\" style=\"width:49%\">\n",
        "</center>\n",
        "</div>"
      ],
      "execution_count": 7,
      "outputs": [
        {
          "output_type": "display_data",
          "data": {
            "text/plain": [
              "<IPython.core.display.HTML object>"
            ],
            "text/html": [
              "<div>\n",
              "<center>\n",
              "<img src=\"http://codh.rois.ac.jp/img/kmnist.png\" style=\"width:49%\">\n",
              "</center>\n",
              "</div>"
            ]
          },
          "metadata": {
            "tags": []
          }
        }
      ]
    },
    {
      "metadata": {
        "id": "3M7aVt5ugMoG",
        "colab_type": "code",
        "colab": {}
      },
      "cell_type": "code",
      "source": [
        "# データの入手が未だの場合は以下の行頭の # を削除して本セルを実行してください\n",
        "#!wget http://codh.rois.ac.jp/kmnist/dataset/kmnist/kmnist-train-imgs.npz\n",
        "#!wget http://codh.rois.ac.jp/kmnist/dataset/kmnist/kmnist-train-labels.npz \n",
        "#!wget http://codh.rois.ac.jp/kmnist/dataset/kmnist/kmnist-test-imgs.npz\n",
        "#!wget http://codh.rois.ac.jp/kmnist/dataset/kmnist/kmnist-test-labels.npz"
      ],
      "execution_count": 0,
      "outputs": []
    },
    {
      "metadata": {
        "id": "_6duXe2TgD4e",
        "colab_type": "code",
        "colab": {}
      },
      "cell_type": "code",
      "source": [
        "# データが存在するかどうかの確認\n",
        "!ls kmnist*.npz"
      ],
      "execution_count": 0,
      "outputs": []
    },
    {
      "metadata": {
        "id": "kkMcDf4qgD4k",
        "colab_type": "code",
        "colab": {}
      },
      "cell_type": "code",
      "source": [
        "# いくつか必要となるライブラリを輸入 import\n",
        "import numpy as np\n",
        "import matplotlib.pyplot as plt\n",
        "from sklearn.decomposition import PCA\n",
        "import pandas as pd\n",
        "pca = PCA(n_components=2)"
      ],
      "execution_count": 0,
      "outputs": []
    },
    {
      "metadata": {
        "id": "wZE8tbgtgD4n",
        "colab_type": "code",
        "colab": {}
      },
      "cell_type": "code",
      "source": [
        "# データの読み込み\n",
        "X_test = np.load('kmnist-test-imgs.npz')['arr_0']\n",
        "y_test = np.load('kmnist-test-labels.npz')['arr_0']\n",
        "X_train= np.load('kmnist-train-imgs.npz')['arr_0']\n",
        "y_train= np.load('kmnist-train-labels.npz')['arr_0']\n",
        "\n",
        "X = X_train.reshape(-1,28*28)\n",
        "labels = pd.DataFrame(y_train, columns=['label'])\n",
        "\n",
        "# PCA 主成分分析の実施\n",
        "principalComponents = pca.fit_transform(X)\n",
        "pcaDF = pd.DataFrame(data = principalComponents, columns = ['pca1', 'pca2'])\n",
        "kmnistDF = pd.concat([pcaDF, labels], axis=1)"
      ],
      "execution_count": 0,
      "outputs": []
    },
    {
      "metadata": {
        "id": "bWBoIu88gD4p",
        "colab_type": "code",
        "colab": {}
      },
      "cell_type": "code",
      "source": [
        "# データが多いと見辛いので最後の 1 万データだけを使ってみます\n",
        "kmnistDF = kmnistDF.tail(10000)"
      ],
      "execution_count": 0,
      "outputs": []
    },
    {
      "metadata": {
        "id": "zUZ6VhrIgD4r",
        "colab_type": "code",
        "colab": {}
      },
      "cell_type": "code",
      "source": [
        "#[Original](https://towardsdatascience.com/pca-using-python-scikit-learn-e653f8989e60)\n",
        "fig = plt.figure(figsize = (8,8))\n",
        "ax = fig.add_subplot(1,1,1) \n",
        "ax.set_xlabel('pca1', fontsize = 15)\n",
        "ax.set_ylabel('pca2', fontsize = 15)\n",
        "ax.set_title('PCA plot', fontsize = 20)\n",
        "for target in range(10):\n",
        "    kept_indices = kmnistDF['label'] == target\n",
        "    ax.scatter(kmnistDF.loc[kept_indices, 'pca1'], kmnistDF.loc[kept_indices, 'pca2'], \n",
        "               s = 10)\n",
        "ax.legend(range(10))\n",
        "ax.grid()"
      ],
      "execution_count": 0,
      "outputs": []
    },
    {
      "metadata": {
        "id": "Fte79ZF2hO9C",
        "colab_type": "text"
      },
      "cell_type": "markdown",
      "source": [
        "# t-SNE による可視化"
      ]
    },
    {
      "metadata": {
        "id": "zVtuT62xgD4v",
        "colab_type": "text"
      },
      "cell_type": "markdown",
      "source": [
        "---\n",
        "\n",
        "## References\n",
        "\n",
        "For further details, \"How to Use t-SNE Effectively\"\n",
        "https://distill.pub/2016/misread-tsne/ provides a good discussion of the\n",
        "effects of various parameters, as well as interactive plots to explore\n",
        "those effects.\n",
        "\n",
        "\n",
        "1. van der Maaten, L.J.P.; Hinton, G.E. Visualizing High-Dimensional Data Using t-SNE. Journal of Machine Learning Research 9:2579-2605, 2008. \n",
        "1. van der Maaten, L.J.P. t-Distributed Stochastic Neighbor Embedding <https://lvdmaaten.github.io/tsne/>\n",
        "1. L.J.P. van der Maaten. Accelerating t-SNE using Tree-Based Algorithms. Journal of Machine Learning Research 15(Oct):3221-3245, 2014. <https://lvdmaaten.github.io/publications/papers/JMLR_2014.pdf>\n"
      ]
    },
    {
      "metadata": {
        "id": "iqbwEjE4gD4v",
        "colab_type": "code",
        "colab": {}
      },
      "cell_type": "code",
      "source": [
        "from sklearn.manifold import TSNE"
      ],
      "execution_count": 0,
      "outputs": []
    },
    {
      "metadata": {
        "id": "1x7OqHtggD4y",
        "colab_type": "code",
        "colab": {}
      },
      "cell_type": "code",
      "source": [
        "size = 1000 # 時間の省略のため 1000 データだけ使います"
      ],
      "execution_count": 0,
      "outputs": []
    },
    {
      "metadata": {
        "id": "l4g-CqfRgD40",
        "colab_type": "code",
        "colab": {}
      },
      "cell_type": "code",
      "source": [
        "X = X_train[:size].reshape(-1,28*28)\n",
        "print(X.shape)"
      ],
      "execution_count": 0,
      "outputs": []
    },
    {
      "metadata": {
        "id": "BoO-BW18gD45",
        "colab_type": "code",
        "colab": {}
      },
      "cell_type": "code",
      "source": [
        "tsned_X = TSNE(n_components=2, random_state=0).fit_transform(X)"
      ],
      "execution_count": 0,
      "outputs": []
    },
    {
      "metadata": {
        "id": "F_PVBojngD4-",
        "colab_type": "code",
        "colab": {}
      },
      "cell_type": "code",
      "source": [
        "#fig = plt.figure(figsize = (10,8))\n",
        "#ax = fig.add_subplot(1,1,1) \n",
        "#plt.scatter(tsned_X[:, 0], tsned_X[:, 1], c=y_train[:1000])\n",
        "#plt.colorbar()\n",
        "\n",
        "fig = plt.figure(figsize = (8,8))\n",
        "ax = fig.add_subplot(1,1,1) \n",
        "ax.set_xlabel('tSNE1', fontsize = 15)\n",
        "ax.set_ylabel('tSNE2', fontsize = 15)\n",
        "ax.set_title('tSNE plot', fontsize = 20)\n",
        "for target in range(10):\n",
        "    kept_indices = y_train[:size] == target\n",
        "    ax.scatter(tsned_X[kept_indices, 0], tsned_X[kept_indices, 1],\n",
        "               s = 10)\n",
        "ax.legend(range(10))\n",
        "ax.grid()"
      ],
      "execution_count": 0,
      "outputs": []
    },
    {
      "metadata": {
        "id": "y9onS856gD5C",
        "colab_type": "code",
        "colab": {}
      },
      "cell_type": "code",
      "source": [
        "# もう一度データを読み込みます\n",
        "X_train= np.load('kmnist-train-imgs.npz')['arr_0'].reshape(-1,28*28).astype('int32')\n",
        "y_train= np.load('kmnist-train-labels.npz')['arr_0'].astype('int32')\n",
        "X_test = np.load('kmnist-test-imgs.npz')['arr_0'].reshape(-1,28*28).astype('int32')\n",
        "y_test = np.load('kmnist-test-labels.npz')['arr_0'].astype('int32')"
      ],
      "execution_count": 0,
      "outputs": []
    },
    {
      "metadata": {
        "id": "Nk4z935kgD5E",
        "colab_type": "text"
      },
      "cell_type": "markdown",
      "source": [
        "---\n",
        "\n",
        "## データの正規化\n",
        "\n",
        "平均 0 分散 1 にすることを **標準化** といいます\n",
        "\n",
        "データ処理では前処理にいくつか手法があります。\n",
        "\n",
        "- 標準化\n",
        "- 正規化\n",
        "- 白色化\n",
        "\n",
        "などなど。用語に混乱が見られる場合もあります。すべてのデータを 0 から 1 までにすることであったり，平均 0分散 1 にすることであったり，無相関化すること"
      ]
    },
    {
      "metadata": {
        "id": "8WWpgU2rgD5F",
        "colab_type": "code",
        "colab": {}
      },
      "cell_type": "code",
      "source": [
        "from sklearn.preprocessing import StandardScaler\n",
        "scaler = StandardScaler()\n",
        "\n",
        "# 訓練データを標準化します\n",
        "scaler.fit(X_train.reshape(-1,28*28))"
      ],
      "execution_count": 0,
      "outputs": []
    },
    {
      "metadata": {
        "id": "QfpXJqI2gD5J",
        "colab_type": "code",
        "colab": {}
      },
      "cell_type": "code",
      "source": [
        "# 上で正規化した情報を使ってデータを変換します\n",
        "transformed_X_train = scaler.transform(X_train.reshape(-1,28*28))\n",
        "transformed_X_test = scaler.transform(X_test.reshape(-1,28*28))"
      ],
      "execution_count": 0,
      "outputs": []
    },
    {
      "metadata": {
        "id": "l63DUDeVgD5M",
        "colab_type": "code",
        "colab": {}
      },
      "cell_type": "code",
      "source": [
        "from sklearn.decomposition import PCA\n",
        "pca = PCA(.9)  # 主成分分析のインスタンスを宣言します。90% までの説明率で計算してみましょう"
      ],
      "execution_count": 0,
      "outputs": []
    },
    {
      "metadata": {
        "id": "NiyNzHlwgD5R",
        "colab_type": "code",
        "colab": {}
      },
      "cell_type": "code",
      "source": [
        "pca.fit(transformed_X_train)  # 主成分分析を実施します"
      ],
      "execution_count": 0,
      "outputs": []
    },
    {
      "metadata": {
        "id": "0COotN9sgD5V",
        "colab_type": "code",
        "colab": {}
      },
      "cell_type": "code",
      "source": [
        "lower_dimensional_data = pca.fit_transform(transformed_X_train) # 実施した主成分分析で次元縮約を確かめます"
      ],
      "execution_count": 0,
      "outputs": []
    },
    {
      "metadata": {
        "id": "G4_SWEFugD5X",
        "colab_type": "code",
        "colab": {}
      },
      "cell_type": "code",
      "source": [
        "pca.n_components_  # 実行すると 90 % までに要した次元数が表示されます"
      ],
      "execution_count": 0,
      "outputs": []
    },
    {
      "metadata": {
        "id": "rr3SUbKRgD5a",
        "colab_type": "code",
        "colab": {}
      },
      "cell_type": "code",
      "source": [
        "approximation = pca.inverse_transform(lower_dimensional_data)  # 90% まででどのくらいデータを表現できているかを確認します"
      ],
      "execution_count": 0,
      "outputs": []
    },
    {
      "metadata": {
        "id": "hFXmHRM-gD5c",
        "colab_type": "code",
        "colab": {}
      },
      "cell_type": "code",
      "source": [
        "# 直下行の n の値を変えることで別のデータを見ることができます\n",
        "n = 3\n",
        "fontsize_ = 10\n",
        "\n",
        "plt.figure(figsize=(4,2));\n",
        "\n",
        "# Original Image\n",
        "plt.subplot(1, 2, 1);\n",
        "plt.imshow(transformed_X_train[n].reshape(28,28) * 255,\n",
        "              cmap=plt.cm.gray, interpolation='nearest',\n",
        "              clim=(0, 255));\n",
        "plt.xlabel('784 components', fontsize=fontsize_)\n",
        "plt.title('Original Image', fontsize=fontsize_);\n",
        "\n",
        "# 175 percent principal components\n",
        "plt.subplot(1, 2, 2);\n",
        "plt.imshow(approximation[n].reshape(28, 28) * 255,\n",
        "              cmap=plt.cm.gray, interpolation='nearest',\n",
        "              clim=(0, 255));\n",
        "plt.xlabel('175 components', fontsize=fontsize_)\n",
        "plt.title('90% of Explained Variance', fontsize=fontsize_);"
      ],
      "execution_count": 0,
      "outputs": []
    },
    {
      "metadata": {
        "id": "H8LWlgNkgD5h",
        "colab_type": "code",
        "colab": {}
      },
      "cell_type": "code",
      "source": [
        "# 784次元すべてを使ってみます\n",
        "pca = PCA()"
      ],
      "execution_count": 0,
      "outputs": []
    },
    {
      "metadata": {
        "id": "K978zw_egD5m",
        "colab_type": "code",
        "colab": {}
      },
      "cell_type": "code",
      "source": [
        "pca.fit(X_train.reshape(-1,28*28))"
      ],
      "execution_count": 0,
      "outputs": []
    },
    {
      "metadata": {
        "id": "W-vw8AgwgD5p",
        "colab_type": "code",
        "colab": {}
      },
      "cell_type": "code",
      "source": [
        "pca.n_components_  # 次元数が表示されます"
      ],
      "execution_count": 0,
      "outputs": []
    },
    {
      "metadata": {
        "id": "HJEjhHPigD5s",
        "colab_type": "code",
        "colab": {}
      },
      "cell_type": "code",
      "source": [
        "# 分散の総和を計算してみましょう\n",
        "tot = sum(pca.explained_variance_)\n",
        "tot"
      ],
      "execution_count": 0,
      "outputs": []
    },
    {
      "metadata": {
        "id": "EZ7qfLPcgD5u",
        "colab_type": "code",
        "colab": {}
      },
      "cell_type": "code",
      "source": [
        "transformed_X_train = pca.transform(X_train.reshape(-1,28*28)) # データを主成分次元上に射影します\n",
        "transformed_X_test = pca.transform(X_test.reshape(-1,28*28))"
      ],
      "execution_count": 0,
      "outputs": []
    },
    {
      "metadata": {
        "id": "YozOCSo3gD50",
        "colab_type": "code",
        "colab": {}
      },
      "cell_type": "code",
      "source": [
        "var_exp = [(i/tot)*100 for i in sorted(pca.explained_variance_, reverse=True)] \n",
        "print(var_exp[0:5]) # 最大固有値から上位 5 つを表示します"
      ],
      "execution_count": 0,
      "outputs": []
    },
    {
      "metadata": {
        "id": "LvWOhKgegD53",
        "colab_type": "code",
        "colab": {}
      },
      "cell_type": "code",
      "source": [
        "cum_var_exp = np.cumsum(var_exp) # 累積分散を求めます"
      ],
      "execution_count": 0,
      "outputs": []
    },
    {
      "metadata": {
        "id": "_hUKWRKHgD55",
        "colab_type": "code",
        "colab": {}
      },
      "cell_type": "code",
      "source": [
        "# 結果を描画します\n",
        "plt.figure(figsize=(8, 6))\n",
        "plt.step(range(1, 785), cum_var_exp, where='mid',label='cumulative explained variance')\n",
        "plt.title('Cumulative Explained Variance as a Function of the Number of Components')\n",
        "plt.ylabel('Cumulative Explained variance')\n",
        "plt.xlabel('PCA')\n",
        "plt.axhline(y = 95, color='k', linestyle='--', label = '95% Explained Variance')\n",
        "plt.axhline(y = 90, color='c', linestyle='--', label = '90% Explained Variance')\n",
        "plt.axhline(y = 85, color='r', linestyle='--', label = '85% Explained Variance')\n",
        "plt.legend(loc='best')\n",
        "plt.show()"
      ],
      "execution_count": 0,
      "outputs": []
    },
    {
      "metadata": {
        "id": "AqFFS30UgD58",
        "colab_type": "text"
      },
      "cell_type": "markdown",
      "source": [
        "---\n",
        "Number of Principal Components for 99%, 95%, 90%, and 85% of Explained Variance"
      ]
    },
    {
      "metadata": {
        "id": "xbsDc9MJgD59",
        "colab_type": "code",
        "colab": {}
      },
      "cell_type": "code",
      "source": [
        "# np.argmax を用いて累積寄与分散の次元数を表示します\n",
        "componentsVariance = [784, \n",
        "                      np.argmax(cum_var_exp > 99) + 1, \n",
        "                      np.argmax(cum_var_exp > 95) + 1, \n",
        "                      np.argmax(cum_var_exp > 90) + 1, \n",
        "                      np.argmax(cum_var_exp >= 85) + 1]"
      ],
      "execution_count": 0,
      "outputs": []
    },
    {
      "metadata": {
        "id": "y0rkzxn7gD6B",
        "colab_type": "code",
        "colab": {}
      },
      "cell_type": "code",
      "source": [
        "componentsVariance"
      ],
      "execution_count": 0,
      "outputs": []
    },
    {
      "metadata": {
        "id": "hEl--zArgD6G",
        "colab_type": "code",
        "colab": {}
      },
      "cell_type": "code",
      "source": [
        "from sklearn.decomposition import PCA\n",
        "\n",
        "# 結果の描画のための関数を定義しておきます\n",
        "def explainedVariance(percentage, images): \n",
        "    # percentage should be a decimal from 0 to 1 \n",
        "    pca = PCA(percentage)\n",
        "    pca.fit(images)\n",
        "    components = pca.transform(images)\n",
        "    approxOriginal = pca.inverse_transform(components)\n",
        "    return approxOriginal"
      ],
      "execution_count": 0,
      "outputs": []
    },
    {
      "metadata": {
        "id": "1PUYBn7CgD6I",
        "colab_type": "code",
        "colab": {}
      },
      "cell_type": "code",
      "source": [
        "# 描画します\n",
        "plt.figure(figsize=(20,4))\n",
        "\n",
        "n = 12\n",
        "fontsize_ = 14 \n",
        "X = X_train.reshape(-1,28*28)\n",
        "# Original Image\n",
        "plt.subplot(1, 5, 1);\n",
        "plt.imshow(X_train[n].reshape(28,28),\n",
        "              cmap = plt.cm.gray, interpolation='nearest',\n",
        "              clim=(0, 255));\n",
        "#plt.xlabel('full Components', fontsize=fontsize_)\n",
        "plt.title('Original Image', fontsize=fontsize_+2);\n",
        "\n",
        "# 331 principal components\n",
        "plt.subplot(1, 5, 2);\n",
        "plt.imshow(explainedVariance(.99, X)[n].reshape(28, 28),\n",
        "              cmap = plt.cm.gray, interpolation='nearest',\n",
        "              clim=(0, 255));\n",
        "#plt.xlabel('331 Components', fontsize=fontsize_)\n",
        "plt.title('99% of Explained Variance', fontsize=fontsize_+2);\n",
        "\n",
        "# 154 principal components\n",
        "plt.subplot(1, 5, 3);\n",
        "plt.imshow(explainedVariance(.95, X)[n].reshape(28, 28),\n",
        "              cmap = plt.cm.gray, interpolation='nearest',\n",
        "              clim=(0, 255));\n",
        "#plt.xlabel('154 Components', fontsize=fontsize_)\n",
        "plt.title('95% of Explained Variance', fontsize=fontsize_);\n",
        "\n",
        "# 87 principal components\n",
        "plt.subplot(1, 5, 4);\n",
        "plt.imshow(explainedVariance(.90, X)[n].reshape(28, 28),\n",
        "              cmap = plt.cm.gray, interpolation='nearest',\n",
        "              clim=(0, 255));\n",
        "#plt.xlabel('87 Components', fontsize=fontsize_)\n",
        "plt.title('90% of Explained Variance', fontsize=fontsize_+2);\n",
        "\n",
        "# 59 principal components\n",
        "plt.subplot(1, 5, 5);\n",
        "plt.imshow(explainedVariance(.85, X)[n].reshape(28, 28),\n",
        "              cmap = plt.cm.gray, interpolation='nearest',\n",
        "              clim=(0, 255));\n",
        "#plt.xlabel('59 Components', fontsize=fontsize_)\n",
        "plt.title('85% of Explained Variance', fontsize=fontsize_+2);"
      ],
      "execution_count": 0,
      "outputs": []
    },
    {
      "metadata": {
        "id": "-u233t6UgD6M",
        "colab_type": "text"
      },
      "cell_type": "markdown",
      "source": [
        "---\n",
        "\n",
        "## ロジスティック回帰"
      ]
    },
    {
      "metadata": {
        "id": "kDkpCwTvgD6N",
        "colab_type": "code",
        "colab": {}
      },
      "cell_type": "code",
      "source": [
        "from sklearn.linear_model import LogisticRegression"
      ],
      "execution_count": 0,
      "outputs": []
    },
    {
      "metadata": {
        "id": "UJt8bpOngD6P",
        "colab_type": "code",
        "colab": {}
      },
      "cell_type": "code",
      "source": [
        "# Broyden, Fletcher, Goldfarb, Shanno (BFGS) アルゴリズムを説明するのは詳細すぎるので省略します\n",
        "logisticR = LogisticRegression(solver = 'lbfgs')"
      ],
      "execution_count": 0,
      "outputs": []
    },
    {
      "metadata": {
        "id": "dkzdpMqBgD6S",
        "colab_type": "code",
        "colab": {}
      },
      "cell_type": "code",
      "source": [
        "X = X_train.reshape(-1,28*28)\n",
        "logisticR.fit(X, y_train)"
      ],
      "execution_count": 0,
      "outputs": []
    },
    {
      "metadata": {
        "id": "trH6SuTPgD6U",
        "colab_type": "code",
        "colab": {}
      },
      "cell_type": "code",
      "source": [
        "X_test_ = X_test.reshape(-1,28*28)\n",
        "logisticR.predict(X_test_[0].reshape(1,-1)) # 予測してみましょう\n",
        "# 表示される数字の意味は {0: 'お', 1: 'き', 2: 'す', 3: 'つ', 4: 'な', 5: 'は', 6: 'ま', 7: 'や', 8: 'れ', 9: 'を'}\n",
        "print(y_test[0])"
      ],
      "execution_count": 0,
      "outputs": []
    },
    {
      "metadata": {
        "id": "36cGCJrJgD6X",
        "colab_type": "code",
        "colab": {}
      },
      "cell_type": "code",
      "source": [
        "num = 30 # 30 データだけ予測してみます。訓練データを使います\n",
        "\n",
        "print(logisticR.predict(X[0:num]))\n",
        "print(y_train[:num])\n",
        "print(((logisticR.predict(X[0:num]) == y_train[0:num]) * 1).sum() * 1. / num)"
      ],
      "execution_count": 0,
      "outputs": []
    },
    {
      "metadata": {
        "id": "GPThgkSPgD6a",
        "colab_type": "code",
        "colab": {}
      },
      "cell_type": "code",
      "source": [
        "num = 30 #  今度はテストデータで予測します\n",
        "X_test_ = X_test.reshape(-1,28*28)\n",
        "print(logisticR.predict(X_test_[0:num]))\n",
        "print(y_test[:num])\n",
        "print(((logisticR.predict(X_test_[0:num]) == y_test[0:num]) * 1).sum() * 1. / num)"
      ],
      "execution_count": 0,
      "outputs": []
    },
    {
      "metadata": {
        "id": "pCSHWi6NgD6c",
        "colab_type": "code",
        "colab": {}
      },
      "cell_type": "code",
      "source": [
        "logisticR.score(X_test_, y_test) # 全体では精度はどのくらいでしょうか"
      ],
      "execution_count": 0,
      "outputs": []
    },
    {
      "metadata": {
        "id": "8aVrr3OYgD6f",
        "colab_type": "text"
      },
      "cell_type": "markdown",
      "source": [
        "----\n",
        "<https://github.com/mGalarnyk/Python_Tutorials/blob/master/Sklearn/PCA/PCA_Image_Reconstruction_and_such.ipynb>"
      ]
    }
  ]
}